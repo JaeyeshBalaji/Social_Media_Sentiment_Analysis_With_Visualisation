{
 "cells": [
  {
   "metadata": {
    "_uuid": "92b885dd147dac19bd0a33db3cd0da100bd5bc23"
   },
   "cell_type": "markdown",
   "source": "# Twitter Sentiment Analysis"
  },
  {
   "metadata": {
    "trusted": true,
    "_uuid": "303e72966af732ddef0bd8108a321095314e44af",
    "ExecuteTime": {
     "end_time": "2024-12-26T16:48:05.789537Z",
     "start_time": "2024-12-26T16:48:02.719505Z"
    }
   },
   "cell_type": "code",
   "source": [
    "# DataFrame\n",
    "import pandas as pd\n",
    "\n",
    "# Matplot\n",
    "import matplotlib.pyplot as plt\n",
    "# `%matplotlib inline` is only used in Jupyter Notebooks, remove if running outside Jupyter\n",
    "# Ensure plots are displayed inline in Jupyter Notebook\n",
    "%matplotlib inline  \n",
    "\n",
    "# Scikit-learn\n",
    "from sklearn.model_selection import train_test_split\n",
    "from sklearn.preprocessing import LabelEncoder\n",
    "from sklearn.metrics import confusion_matrix, classification_report, accuracy_score\n",
    "from sklearn.manifold import TSNE\n",
    "from sklearn.feature_extraction.text import TfidfVectorizer\n",
    "\n",
    "# TensorFlow / Keras (Updated)\n",
    "from tensorflow.keras.preprocessing.text import Tokenizer\n",
    "from tensorflow.keras.preprocessing.sequence import pad_sequences\n",
    "from tensorflow.keras.models import Sequential\n",
    "from tensorflow.keras.layers import Activation, Dense, Dropout, Embedding, Flatten, Conv1D, MaxPooling1D, LSTM\n",
    "from tensorflow.keras.utils import to_categorical\n",
    "from tensorflow.keras.callbacks import ReduceLROnPlateau, EarlyStopping\n",
    "\n",
    "# nltk\n",
    "import nltk\n",
    "from nltk.corpus import stopwords\n",
    "from nltk.stem import SnowballStemmer\n",
    "\n",
    "# Ensure nltk resources are downloaded\n",
    "nltk.download('stopwords')\n",
    "\n",
    "# Word2Vec (gensim updated usage)\n",
    "import gensim\n",
    "from gensim.models import Word2Vec\n",
    "\n",
    "# Utility\n",
    "import re\n",
    "import numpy as np\n",
    "import os\n",
    "from collections import Counter\n",
    "import logging\n",
    "import time\n",
    "import pickle\n",
    "import itertools\n",
    "\n",
    "# Set log (Keep the logging consistent)\n",
    "logging.basicConfig(format='%(asctime)s : %(levelname)s : %(message)s', level=logging.INFO)\n",
    "\n",
    "# Verify all important resources are downloaded for nltk and gensim\n",
    "nltk.download('punkt')  # Required for tokenization\n"
   ],
   "outputs": [
    {
     "name": "stderr",
     "output_type": "stream",
     "text": [
      "2024-12-26 22:18:04.136956: I tensorflow/core/util/port.cc:153] oneDNN custom operations are on. You may see slightly different numerical results due to floating-point round-off errors from different computation orders. To turn them off, set the environment variable `TF_ENABLE_ONEDNN_OPTS=0`.\n",
      "2024-12-26 22:18:04.261340: E external/local_xla/xla/stream_executor/cuda/cuda_fft.cc:477] Unable to register cuFFT factory: Attempting to register factory for plugin cuFFT when one has already been registered\n",
      "WARNING: All log messages before absl::InitializeLog() is called are written to STDERR\n",
      "E0000 00:00:1735231684.301922    6833 cuda_dnn.cc:8310] Unable to register cuDNN factory: Attempting to register factory for plugin cuDNN when one has already been registered\n",
      "E0000 00:00:1735231684.314996    6833 cuda_blas.cc:1418] Unable to register cuBLAS factory: Attempting to register factory for plugin cuBLAS when one has already been registered\n",
      "2024-12-26 22:18:04.431500: I tensorflow/core/platform/cpu_feature_guard.cc:210] This TensorFlow binary is optimized to use available CPU instructions in performance-critical operations.\n",
      "To enable the following instructions: AVX2 AVX_VNNI FMA, in other operations, rebuild TensorFlow with the appropriate compiler flags.\n",
      "[nltk_data] Downloading package stopwords to\n",
      "[nltk_data]     /home/jaeyesh/nltk_data...\n",
      "[nltk_data]   Package stopwords is already up-to-date!\n",
      "[nltk_data] Downloading package punkt to /home/jaeyesh/nltk_data...\n",
      "[nltk_data]   Package punkt is already up-to-date!\n"
     ]
    },
    {
     "data": {
      "text/plain": [
       "True"
      ]
     },
     "execution_count": 1,
     "metadata": {},
     "output_type": "execute_result"
    }
   ],
   "execution_count": 1
  },
  {
   "metadata": {
    "trusted": true,
    "_uuid": "35e1a89dead5fd160e4c9a024a21d2e569fc89ff",
    "ExecuteTime": {
     "end_time": "2024-12-26T16:48:05.821013Z",
     "start_time": "2024-12-26T16:48:05.817281Z"
    }
   },
   "cell_type": "code",
   "source": "nltk.download('stopwords')",
   "outputs": [
    {
     "name": "stderr",
     "output_type": "stream",
     "text": [
      "[nltk_data] Downloading package stopwords to\n",
      "[nltk_data]     /home/jaeyesh/nltk_data...\n",
      "[nltk_data]   Package stopwords is already up-to-date!\n"
     ]
    },
    {
     "data": {
      "text/plain": [
       "True"
      ]
     },
     "execution_count": 2,
     "metadata": {},
     "output_type": "execute_result"
    }
   ],
   "execution_count": 2
  },
  {
   "metadata": {
    "_uuid": "e8b01a07df001e4abcc745900336c4db06e455f3"
   },
   "cell_type": "markdown",
   "source": "### Settings"
  },
  {
   "metadata": {
    "trusted": true,
    "_uuid": "180f0dd2a95419e4602b5c0229822b0111c826f6",
    "ExecuteTime": {
     "end_time": "2024-12-26T16:48:05.898226Z",
     "start_time": "2024-12-26T16:48:05.895350Z"
    }
   },
   "cell_type": "code",
   "source": "# DATASET\nDATASET_COLUMNS = [\"target\", \"ids\", \"date\", \"flag\", \"user\", \"text\"]\nDATASET_ENCODING = \"ISO-8859-1\"\nTRAIN_SIZE = 0.8\n\n# TEXT CLENAING\nTEXT_CLEANING_RE = \"@\\S+|https?:\\S+|http?:\\S|[^A-Za-z0-9]+\"\n\n# WORD2VEC \nW2V_SIZE = 300\nW2V_WINDOW = 7\nW2V_EPOCH = 32\nW2V_MIN_COUNT = 10\n\n# KERAS\nSEQUENCE_LENGTH = 300\nEPOCHS = 8\nBATCH_SIZE = 1024\n\n# SENTIMENT\nPOSITIVE = \"POSITIVE\"\nNEGATIVE = \"NEGATIVE\"\nNEUTRAL = \"NEUTRAL\"\nSENTIMENT_THRESHOLDS = (0.4, 0.7)\n\n# EXPORT\nKERAS_MODEL = \"model.h5\"\nWORD2VEC_MODEL = \"model.w2v\"\nTOKENIZER_MODEL = \"tokenizer.pkl\"\nENCODER_MODEL = \"encoder.pkl\"",
   "outputs": [],
   "execution_count": 3
  },
  {
   "metadata": {
    "_uuid": "1c3beecc618be68480b3d4f0de08d9d863da1dc1"
   },
   "cell_type": "markdown",
   "source": "### Read Dataset"
  },
  {
   "metadata": {
    "_uuid": "563b3c44f1092dba0b853747b098e00509098cca"
   },
   "cell_type": "markdown",
   "source": "### Dataset details\n* **target**: the polarity of the tweet (0 = negative, 2 = neutral, 4 = positive)\n* **ids**: The id of the tweet ( 2087)\n* **date**: the date of the tweet (Sat May 16 23:58:44 UTC 2009)\n* **flag**: The query (lyx). If there is no query, then this value is NO_QUERY.\n* **user**: the user that tweeted (robotickilldozr)\n* **text**: the text of the tweet (Lyx is cool)"
  },
  {
   "metadata": {
    "trusted": true,
    "_uuid": "bba8f91cd70de4f5ea0fb0870ae2029b6e3dcc24",
    "ExecuteTime": {
     "end_time": "2024-12-26T16:48:08.431054Z",
     "start_time": "2024-12-26T16:48:05.935485Z"
    }
   },
   "cell_type": "code",
   "source": [
    "\n",
    "df = pd.read_csv(\"training.1600000.processed.noemoticon.csv\", encoding =DATASET_ENCODING , names=DATASET_COLUMNS)"
   ],
   "outputs": [],
   "execution_count": 4
  },
  {
   "metadata": {
    "trusted": true,
    "_uuid": "936d499c00c4f1648bc16ca9d283c3b39be7fb10",
    "ExecuteTime": {
     "end_time": "2024-12-26T16:48:08.446909Z",
     "start_time": "2024-12-26T16:48:08.444096Z"
    }
   },
   "cell_type": "code",
   "source": "print(\"Dataset size:\", len(df))",
   "outputs": [
    {
     "name": "stdout",
     "output_type": "stream",
     "text": [
      "Dataset size: 1600000\n"
     ]
    }
   ],
   "execution_count": 5
  },
  {
   "metadata": {
    "trusted": true,
    "_uuid": "7486ed895b813c5246f97b31b6162b0f65ff763b",
    "ExecuteTime": {
     "end_time": "2024-12-26T16:48:08.514493Z",
     "start_time": "2024-12-26T16:48:08.506983Z"
    }
   },
   "cell_type": "code",
   "source": "df.head(5)",
   "outputs": [
    {
     "data": {
      "text/plain": [
       "   target         ids                          date      flag  \\\n",
       "0       0  1467810369  Mon Apr 06 22:19:45 PDT 2009  NO_QUERY   \n",
       "1       0  1467810672  Mon Apr 06 22:19:49 PDT 2009  NO_QUERY   \n",
       "2       0  1467810917  Mon Apr 06 22:19:53 PDT 2009  NO_QUERY   \n",
       "3       0  1467811184  Mon Apr 06 22:19:57 PDT 2009  NO_QUERY   \n",
       "4       0  1467811193  Mon Apr 06 22:19:57 PDT 2009  NO_QUERY   \n",
       "\n",
       "              user                                               text  \n",
       "0  _TheSpecialOne_  @switchfoot http://twitpic.com/2y1zl - Awww, t...  \n",
       "1    scotthamilton  is upset that he can't update his Facebook by ...  \n",
       "2         mattycus  @Kenichan I dived many times for the ball. Man...  \n",
       "3          ElleCTF    my whole body feels itchy and like its on fire   \n",
       "4           Karoli  @nationwideclass no, it's not behaving at all....  "
      ],
      "text/html": [
       "<div>\n",
       "<style scoped>\n",
       "    .dataframe tbody tr th:only-of-type {\n",
       "        vertical-align: middle;\n",
       "    }\n",
       "\n",
       "    .dataframe tbody tr th {\n",
       "        vertical-align: top;\n",
       "    }\n",
       "\n",
       "    .dataframe thead th {\n",
       "        text-align: right;\n",
       "    }\n",
       "</style>\n",
       "<table border=\"1\" class=\"dataframe\">\n",
       "  <thead>\n",
       "    <tr style=\"text-align: right;\">\n",
       "      <th></th>\n",
       "      <th>target</th>\n",
       "      <th>ids</th>\n",
       "      <th>date</th>\n",
       "      <th>flag</th>\n",
       "      <th>user</th>\n",
       "      <th>text</th>\n",
       "    </tr>\n",
       "  </thead>\n",
       "  <tbody>\n",
       "    <tr>\n",
       "      <th>0</th>\n",
       "      <td>0</td>\n",
       "      <td>1467810369</td>\n",
       "      <td>Mon Apr 06 22:19:45 PDT 2009</td>\n",
       "      <td>NO_QUERY</td>\n",
       "      <td>_TheSpecialOne_</td>\n",
       "      <td>@switchfoot http://twitpic.com/2y1zl - Awww, t...</td>\n",
       "    </tr>\n",
       "    <tr>\n",
       "      <th>1</th>\n",
       "      <td>0</td>\n",
       "      <td>1467810672</td>\n",
       "      <td>Mon Apr 06 22:19:49 PDT 2009</td>\n",
       "      <td>NO_QUERY</td>\n",
       "      <td>scotthamilton</td>\n",
       "      <td>is upset that he can't update his Facebook by ...</td>\n",
       "    </tr>\n",
       "    <tr>\n",
       "      <th>2</th>\n",
       "      <td>0</td>\n",
       "      <td>1467810917</td>\n",
       "      <td>Mon Apr 06 22:19:53 PDT 2009</td>\n",
       "      <td>NO_QUERY</td>\n",
       "      <td>mattycus</td>\n",
       "      <td>@Kenichan I dived many times for the ball. Man...</td>\n",
       "    </tr>\n",
       "    <tr>\n",
       "      <th>3</th>\n",
       "      <td>0</td>\n",
       "      <td>1467811184</td>\n",
       "      <td>Mon Apr 06 22:19:57 PDT 2009</td>\n",
       "      <td>NO_QUERY</td>\n",
       "      <td>ElleCTF</td>\n",
       "      <td>my whole body feels itchy and like its on fire</td>\n",
       "    </tr>\n",
       "    <tr>\n",
       "      <th>4</th>\n",
       "      <td>0</td>\n",
       "      <td>1467811193</td>\n",
       "      <td>Mon Apr 06 22:19:57 PDT 2009</td>\n",
       "      <td>NO_QUERY</td>\n",
       "      <td>Karoli</td>\n",
       "      <td>@nationwideclass no, it's not behaving at all....</td>\n",
       "    </tr>\n",
       "  </tbody>\n",
       "</table>\n",
       "</div>"
      ]
     },
     "execution_count": 6,
     "metadata": {},
     "output_type": "execute_result"
    }
   ],
   "execution_count": 6
  },
  {
   "metadata": {
    "_uuid": "3f9a7bb129e184967b13261fb5d253af451c75c5"
   },
   "cell_type": "markdown",
   "source": "### Map target label to String\n* **0** -> **NEGATIVE**\n* **2** -> **NEUTRAL**\n* **4** -> **POSITIVE**"
  },
  {
   "metadata": {
    "trusted": true,
    "_uuid": "14074b59106cb9550440839e48b832223fc9502f",
    "ExecuteTime": {
     "end_time": "2024-12-26T16:48:08.566999Z",
     "start_time": "2024-12-26T16:48:08.564162Z"
    }
   },
   "cell_type": "code",
   "source": "decode_map = {0: \"NEGATIVE\", 2: \"NEUTRAL\", 4: \"POSITIVE\"}\ndef decode_sentiment(label):\n    return decode_map[int(label)]",
   "outputs": [],
   "execution_count": 7
  },
  {
   "metadata": {
    "trusted": true,
    "_uuid": "4449d473187f647a195a6ac6986b009da32a7f4b",
    "ExecuteTime": {
     "end_time": "2024-12-26T16:48:08.803362Z",
     "start_time": "2024-12-26T16:48:08.617690Z"
    }
   },
   "cell_type": "code",
   "source": "%%time\ndf.target = df.target.apply(lambda x: decode_sentiment(x))",
   "outputs": [
    {
     "name": "stdout",
     "output_type": "stream",
     "text": [
      "CPU times: user 177 ms, sys: 6.71 ms, total: 184 ms\n",
      "Wall time: 183 ms\n"
     ]
    }
   ],
   "execution_count": 8
  },
  {
   "metadata": {
    "trusted": true,
    "_uuid": "19eb327803192f31cce3512aacb232f4d6b38715",
    "ExecuteTime": {
     "end_time": "2024-12-26T16:48:08.974370Z",
     "start_time": "2024-12-26T16:48:08.826184Z"
    }
   },
   "cell_type": "code",
   "source": "target_cnt = Counter(df.target)\n\nplt.figure(figsize=(16,8))\nplt.bar(target_cnt.keys(), target_cnt.values())\nplt.title(\"Dataset labels distribuition\")",
   "outputs": [
    {
     "data": {
      "text/plain": [
       "Text(0.5, 1.0, 'Dataset labels distribuition')"
      ]
     },
     "execution_count": 9,
     "metadata": {},
     "output_type": "execute_result"
    },
    {
     "data": {
      "text/plain": [
       "<Figure size 1600x800 with 1 Axes>"
      ],
      "image/png": "[encoded data removed]"
     },
     "metadata": {},
     "output_type": "display_data"
    }
   ],
   "execution_count": 9
  },
  {
   "metadata": {
    "_uuid": "4329b1573518b03e497213efa7676220734ebb4b"
   },
   "cell_type": "markdown",
   "source": "### Pre-Process dataset"
  },
  {
   "metadata": {
    "trusted": true,
    "_uuid": "8aeee8b7b9ea11b749c7f91cd4787a7b50ed1a91",
    "ExecuteTime": {
     "end_time": "2024-12-26T16:48:08.987943Z",
     "start_time": "2024-12-26T16:48:08.985223Z"
    }
   },
   "cell_type": "code",
   "source": "stop_words = stopwords.words(\"english\")\nstemmer = SnowballStemmer(\"english\")",
   "outputs": [],
   "execution_count": 10
  },
  {
   "metadata": {
    "trusted": true,
    "_uuid": "649ebcb97969b9ac4301138783704bb3d7846a49",
    "ExecuteTime": {
     "end_time": "2024-12-26T16:48:09.035143Z",
     "start_time": "2024-12-26T16:48:09.031805Z"
    }
   },
   "cell_type": "code",
   "source": "def preprocess(text, stem=False):\n    # Remove link,user and special characters\n    text = re.sub(TEXT_CLEANING_RE, ' ', str(text).lower()).strip()\n    tokens = []\n    for token in text.split():\n        if token not in stop_words:\n            if stem:\n                tokens.append(stemmer.stem(token))\n            else:\n                tokens.append(token)\n    return \" \".join(tokens)",
   "outputs": [],
   "execution_count": 11
  },
  {
   "metadata": {
    "trusted": true,
    "_uuid": "f7f3e77ab9291d14687c49e71ba9b2b1e3323432",
    "ExecuteTime": {
     "end_time": "2024-12-26T16:48:38.041875Z",
     "start_time": "2024-12-26T16:48:09.086271Z"
    }
   },
   "cell_type": "code",
   "source": "%%time\ndf.text = df.text.apply(lambda x: preprocess(x))",
   "outputs": [
    {
     "name": "stdout",
     "output_type": "stream",
     "text": [
      "CPU times: user 28.9 s, sys: 70.5 ms, total: 29 s\n",
      "Wall time: 29 s\n"
     ]
    }
   ],
   "execution_count": 12
  },
  {
   "metadata": {
    "trusted": true,
    "_uuid": "f5f9714a8507409bbe780eebf2855a33e8e6ba37"
   },
   "cell_type": "markdown",
   "source": "### Split train and test"
  },
  {
   "metadata": {
    "trusted": true,
    "_uuid": "d2b1179c968e3f3910c790ecf0c5b2cbb34b0e68",
    "ExecuteTime": {
     "end_time": "2024-12-26T16:48:38.599012Z",
     "start_time": "2024-12-26T16:48:38.092867Z"
    }
   },
   "cell_type": "code",
   "source": "df_train, df_test = train_test_split(df, test_size=1-TRAIN_SIZE, random_state=42)\nprint(\"TRAIN size:\", len(df_train))\nprint(\"TEST size:\", len(df_test))",
   "outputs": [
    {
     "name": "stdout",
     "output_type": "stream",
     "text": [
      "TRAIN size: 1280000\n",
      "TEST size: 320000\n"
     ]
    }
   ],
   "execution_count": 13
  },
  {
   "metadata": {
    "_uuid": "f08a28aab2c3d16d8b9681a7d5d07587153a1cd6"
   },
   "cell_type": "markdown",
   "source": "### Word2Vec "
  },
  {
   "metadata": {
    "trusted": true,
    "_uuid": "2461bf564de1b4414841933d0c1d1bee5f5cc5a6",
    "ExecuteTime": {
     "end_time": "2024-12-26T16:48:41.226414Z",
     "start_time": "2024-12-26T16:48:38.621931Z"
    }
   },
   "cell_type": "code",
   "source": "%%time\ndocuments = [_text.split() for _text in df_train.text] ",
   "outputs": [
    {
     "name": "stdout",
     "output_type": "stream",
     "text": [
      "CPU times: user 2.37 s, sys: 236 ms, total: 2.61 s\n",
      "Wall time: 2.6 s\n"
     ]
    }
   ],
   "execution_count": 14
  },
  {
   "metadata": {
    "trusted": true,
    "_uuid": "8e19b9f25801ba86420decc266d2b3e6fb44f1ea",
    "ExecuteTime": {
     "end_time": "2024-12-26T16:48:41.251396Z",
     "start_time": "2024-12-26T16:48:41.248023Z"
    }
   },
   "cell_type": "code",
   "source": [
    "w2v_model = gensim.models.word2vec.Word2Vec(vector_size=W2V_SIZE, \n",
    "                                            window=W2V_WINDOW, \n",
    "                                            min_count=W2V_MIN_COUNT, \n",
    "                                            workers=8)\n"
   ],
   "outputs": [
    {
     "name": "stderr",
     "output_type": "stream",
     "text": [
      "2024-12-26 22:18:41,249 : INFO : Word2Vec lifecycle event {'params': 'Word2Vec<vocab=0, vector_size=300, alpha=0.025>', 'datetime': '2024-12-26T22:18:41.249315', 'gensim': '4.3.3', 'python': '3.10.12 (main, Nov  6 2024, 20:22:13) [GCC 11.4.0]', 'platform': 'Linux-6.8.0-49-generic-x86_64-with-glibc2.35', 'event': 'created'}\n"
     ]
    }
   ],
   "execution_count": 15
  },
  {
   "metadata": {
    "trusted": true,
    "_uuid": "58d655af07653c594bec6bebcfb302a973b0ad9c",
    "ExecuteTime": {
     "end_time": "2024-12-26T16:48:43.626283Z",
     "start_time": "2024-12-26T16:48:41.305817Z"
    }
   },
   "cell_type": "code",
   "source": "w2v_model.build_vocab(documents)",
   "outputs": [
    {
     "name": "stderr",
     "output_type": "stream",
     "text": [
      "2024-12-26 22:18:41,306 : INFO : collecting all words and their counts\n",
      "2024-12-26 22:18:41,308 : INFO : PROGRESS: at sentence #0, processed 0 words, keeping 0 word types\n",
      "2024-12-26 22:18:41,319 : INFO : PROGRESS: at sentence #10000, processed 72565 words, keeping 14005 word types\n",
      "2024-12-26 22:18:41,330 : INFO : PROGRESS: at sentence #20000, processed 144393 words, keeping 21587 word types\n",
      "2024-12-26 22:18:41,341 : INFO : PROGRESS: at sentence #30000, processed 215826 words, keeping 27541 word types\n",
      "2024-12-26 22:18:41,352 : INFO : PROGRESS: at sentence #40000, processed 288271 words, keeping 32764 word types\n",
      "2024-12-26 22:18:41,364 : INFO : PROGRESS: at sentence #50000, processed 359772 words, keeping 37587 word types\n",
      "2024-12-26 22:18:41,376 : INFO : PROGRESS: at sentence #60000, processed 431431 words, keeping 42198 word types\n",
      "2024-12-26 22:18:41,389 : INFO : PROGRESS: at sentence #70000, processed 503103 words, keeping 46458 word types\n",
      "2024-12-26 22:18:41,402 : INFO : PROGRESS: at sentence #80000, processed 575709 words, keeping 50476 word types\n",
      "2024-12-26 22:18:41,415 : INFO : PROGRESS: at sentence #90000, processed 647100 words, keeping 54140 word types\n",
      "2024-12-26 22:18:41,427 : INFO : PROGRESS: at sentence #100000, processed 718681 words, keeping 57777 word types\n",
      "2024-12-26 22:18:41,439 : INFO : PROGRESS: at sentence #110000, processed 790696 words, keeping 61207 word types\n",
      "2024-12-26 22:18:41,452 : INFO : PROGRESS: at sentence #120000, processed 863134 words, keeping 64583 word types\n",
      "2024-12-26 22:18:41,464 : INFO : PROGRESS: at sentence #130000, processed 935111 words, keeping 67865 word types\n",
      "2024-12-26 22:18:41,477 : INFO : PROGRESS: at sentence #140000, processed 1006668 words, keeping 70966 word types\n",
      "2024-12-26 22:18:41,489 : INFO : PROGRESS: at sentence #150000, processed 1078512 words, keeping 74119 word types\n",
      "2024-12-26 22:18:41,501 : INFO : PROGRESS: at sentence #160000, processed 1149914 words, keeping 77187 word types\n",
      "2024-12-26 22:18:41,513 : INFO : PROGRESS: at sentence #170000, processed 1222145 words, keeping 80267 word types\n",
      "2024-12-26 22:18:41,526 : INFO : PROGRESS: at sentence #180000, processed 1294708 words, keeping 83393 word types\n",
      "2024-12-26 22:18:41,538 : INFO : PROGRESS: at sentence #190000, processed 1367608 words, keeping 86329 word types\n",
      "2024-12-26 22:18:41,552 : INFO : PROGRESS: at sentence #200000, processed 1439469 words, keeping 89103 word types\n",
      "2024-12-26 22:18:41,564 : INFO : PROGRESS: at sentence #210000, processed 1512099 words, keeping 91840 word types\n",
      "2024-12-26 22:18:41,576 : INFO : PROGRESS: at sentence #220000, processed 1584149 words, keeping 94636 word types\n",
      "2024-12-26 22:18:41,588 : INFO : PROGRESS: at sentence #230000, processed 1656354 words, keeping 97353 word types\n",
      "2024-12-26 22:18:41,600 : INFO : PROGRESS: at sentence #240000, processed 1728573 words, keeping 99975 word types\n",
      "2024-12-26 22:18:41,612 : INFO : PROGRESS: at sentence #250000, processed 1801102 words, keeping 102594 word types\n",
      "2024-12-26 22:18:41,624 : INFO : PROGRESS: at sentence #260000, processed 1873103 words, keeping 105162 word types\n",
      "2024-12-26 22:18:41,638 : INFO : PROGRESS: at sentence #270000, processed 1945245 words, keeping 107626 word types\n",
      "2024-12-26 22:18:41,650 : INFO : PROGRESS: at sentence #280000, processed 2017163 words, keeping 110141 word types\n",
      "2024-12-26 22:18:41,662 : INFO : PROGRESS: at sentence #290000, processed 2089574 words, keeping 112539 word types\n",
      "2024-12-26 22:18:41,674 : INFO : PROGRESS: at sentence #300000, processed 2160996 words, keeping 114893 word types\n",
      "2024-12-26 22:18:41,687 : INFO : PROGRESS: at sentence #310000, processed 2232913 words, keeping 117298 word types\n",
      "2024-12-26 22:18:41,699 : INFO : PROGRESS: at sentence #320000, processed 2305039 words, keeping 119693 word types\n",
      "2024-12-26 22:18:41,711 : INFO : PROGRESS: at sentence #330000, processed 2377119 words, keeping 122131 word types\n",
      "2024-12-26 22:18:41,723 : INFO : PROGRESS: at sentence #340000, processed 2449370 words, keeping 124416 word types\n",
      "2024-12-26 22:18:41,735 : INFO : PROGRESS: at sentence #350000, processed 2521564 words, keeping 126669 word types\n",
      "2024-12-26 22:18:41,747 : INFO : PROGRESS: at sentence #360000, processed 2593681 words, keeping 128912 word types\n",
      "2024-12-26 22:18:41,759 : INFO : PROGRESS: at sentence #370000, processed 2665692 words, keeping 131135 word types\n",
      "2024-12-26 22:18:41,772 : INFO : PROGRESS: at sentence #380000, processed 2737859 words, keeping 133403 word types\n",
      "2024-12-26 22:18:41,785 : INFO : PROGRESS: at sentence #390000, processed 2809848 words, keeping 135551 word types\n",
      "2024-12-26 22:18:41,797 : INFO : PROGRESS: at sentence #400000, processed 2882438 words, keeping 137742 word types\n",
      "2024-12-26 22:18:41,810 : INFO : PROGRESS: at sentence #410000, processed 2954075 words, keeping 139909 word types\n",
      "2024-12-26 22:18:41,822 : INFO : PROGRESS: at sentence #420000, processed 3026247 words, keeping 142144 word types\n",
      "2024-12-26 22:18:41,835 : INFO : PROGRESS: at sentence #430000, processed 3098659 words, keeping 144364 word types\n",
      "2024-12-26 22:18:41,847 : INFO : PROGRESS: at sentence #440000, processed 3170663 words, keeping 146439 word types\n",
      "2024-12-26 22:18:41,859 : INFO : PROGRESS: at sentence #450000, processed 3243344 words, keeping 148526 word types\n",
      "2024-12-26 22:18:41,872 : INFO : PROGRESS: at sentence #460000, processed 3315466 words, keeping 150610 word types\n",
      "2024-12-26 22:18:41,884 : INFO : PROGRESS: at sentence #470000, processed 3388295 words, keeping 152737 word types\n",
      "2024-12-26 22:18:41,898 : INFO : PROGRESS: at sentence #480000, processed 3460120 words, keeping 154757 word types\n",
      "2024-12-26 22:18:41,910 : INFO : PROGRESS: at sentence #490000, processed 3531883 words, keeping 156825 word types\n",
      "2024-12-26 22:18:41,922 : INFO : PROGRESS: at sentence #500000, processed 3604217 words, keeping 158859 word types\n",
      "2024-12-26 22:18:41,934 : INFO : PROGRESS: at sentence #510000, processed 3676427 words, keeping 160852 word types\n",
      "2024-12-26 22:18:41,947 : INFO : PROGRESS: at sentence #520000, processed 3749045 words, keeping 162863 word types\n",
      "2024-12-26 22:18:41,959 : INFO : PROGRESS: at sentence #530000, processed 3821622 words, keeping 164929 word types\n",
      "2024-12-26 22:18:41,971 : INFO : PROGRESS: at sentence #540000, processed 3893627 words, keeping 166840 word types\n",
      "2024-12-26 22:18:41,983 : INFO : PROGRESS: at sentence #550000, processed 3965477 words, keeping 168799 word types\n",
      "2024-12-26 22:18:41,996 : INFO : PROGRESS: at sentence #560000, processed 4038050 words, keeping 170802 word types\n",
      "2024-12-26 22:18:42,008 : INFO : PROGRESS: at sentence #570000, processed 4110296 words, keeping 172760 word types\n",
      "2024-12-26 22:18:42,020 : INFO : PROGRESS: at sentence #580000, processed 4182385 words, keeping 174635 word types\n",
      "2024-12-26 22:18:42,040 : INFO : PROGRESS: at sentence #590000, processed 4254632 words, keeping 176470 word types\n",
      "2024-12-26 22:18:42,052 : INFO : PROGRESS: at sentence #600000, processed 4326859 words, keeping 178350 word types\n",
      "2024-12-26 22:18:42,064 : INFO : PROGRESS: at sentence #610000, processed 4399183 words, keeping 180290 word types\n",
      "2024-12-26 22:18:42,077 : INFO : PROGRESS: at sentence #620000, processed 4471343 words, keeping 182129 word types\n",
      "2024-12-26 22:18:42,089 : INFO : PROGRESS: at sentence #630000, processed 4543286 words, keeping 184005 word types\n",
      "2024-12-26 22:18:42,102 : INFO : PROGRESS: at sentence #640000, processed 4615780 words, keeping 185835 word types\n",
      "2024-12-26 22:18:42,114 : INFO : PROGRESS: at sentence #650000, processed 4688481 words, keeping 187705 word types\n",
      "2024-12-26 22:18:42,127 : INFO : PROGRESS: at sentence #660000, processed 4760481 words, keeping 189439 word types\n",
      "2024-12-26 22:18:42,139 : INFO : PROGRESS: at sentence #670000, processed 4833024 words, keeping 191232 word types\n",
      "2024-12-26 22:18:42,152 : INFO : PROGRESS: at sentence #680000, processed 4904516 words, keeping 193177 word types\n",
      "2024-12-26 22:18:42,164 : INFO : PROGRESS: at sentence #690000, processed 4976968 words, keeping 194960 word types\n",
      "2024-12-26 22:18:42,176 : INFO : PROGRESS: at sentence #700000, processed 5049412 words, keeping 196725 word types\n",
      "2024-12-26 22:18:42,189 : INFO : PROGRESS: at sentence #710000, processed 5121976 words, keeping 198516 word types\n",
      "2024-12-26 22:18:42,201 : INFO : PROGRESS: at sentence #720000, processed 5193881 words, keeping 200325 word types\n",
      "2024-12-26 22:18:42,214 : INFO : PROGRESS: at sentence #730000, processed 5265467 words, keeping 202133 word types\n",
      "2024-12-26 22:18:42,226 : INFO : PROGRESS: at sentence #740000, processed 5337518 words, keeping 203818 word types\n",
      "2024-12-26 22:18:42,239 : INFO : PROGRESS: at sentence #750000, processed 5409321 words, keeping 205535 word types\n",
      "2024-12-26 22:18:42,251 : INFO : PROGRESS: at sentence #760000, processed 5481512 words, keeping 207282 word types\n",
      "2024-12-26 22:18:42,263 : INFO : PROGRESS: at sentence #770000, processed 5554093 words, keeping 209076 word types\n",
      "2024-12-26 22:18:42,276 : INFO : PROGRESS: at sentence #780000, processed 5625382 words, keeping 210805 word types\n",
      "2024-12-26 22:18:42,292 : INFO : PROGRESS: at sentence #790000, processed 5698066 words, keeping 212618 word types\n",
      "2024-12-26 22:18:42,304 : INFO : PROGRESS: at sentence #800000, processed 5770880 words, keeping 214374 word types\n",
      "2024-12-26 22:18:42,317 : INFO : PROGRESS: at sentence #810000, processed 5843418 words, keeping 216009 word types\n",
      "2024-12-26 22:18:42,329 : INFO : PROGRESS: at sentence #820000, processed 5915628 words, keeping 217804 word types\n",
      "2024-12-26 22:18:42,342 : INFO : PROGRESS: at sentence #830000, processed 5987499 words, keeping 219585 word types\n",
      "2024-12-26 22:18:42,354 : INFO : PROGRESS: at sentence #840000, processed 6058973 words, keeping 221344 word types\n",
      "2024-12-26 22:18:42,367 : INFO : PROGRESS: at sentence #850000, processed 6131125 words, keeping 223002 word types\n",
      "2024-12-26 22:18:42,379 : INFO : PROGRESS: at sentence #860000, processed 6202951 words, keeping 224643 word types\n",
      "2024-12-26 22:18:42,392 : INFO : PROGRESS: at sentence #870000, processed 6275461 words, keeping 226362 word types\n",
      "2024-12-26 22:18:42,405 : INFO : PROGRESS: at sentence #880000, processed 6347661 words, keeping 227986 word types\n",
      "2024-12-26 22:18:42,418 : INFO : PROGRESS: at sentence #890000, processed 6419806 words, keeping 229634 word types\n",
      "2024-12-26 22:18:42,431 : INFO : PROGRESS: at sentence #900000, processed 6491644 words, keeping 231389 word types\n",
      "2024-12-26 22:18:42,443 : INFO : PROGRESS: at sentence #910000, processed 6564022 words, keeping 233050 word types\n",
      "2024-12-26 22:18:42,456 : INFO : PROGRESS: at sentence #920000, processed 6636228 words, keeping 234686 word types\n",
      "2024-12-26 22:18:42,469 : INFO : PROGRESS: at sentence #930000, processed 6708573 words, keeping 236393 word types\n",
      "2024-12-26 22:18:42,481 : INFO : PROGRESS: at sentence #940000, processed 6779956 words, keeping 238052 word types\n",
      "2024-12-26 22:18:42,494 : INFO : PROGRESS: at sentence #950000, processed 6852599 words, keeping 239716 word types\n",
      "2024-12-26 22:18:42,506 : INFO : PROGRESS: at sentence #960000, processed 6924717 words, keeping 241354 word types\n",
      "2024-12-26 22:18:42,520 : INFO : PROGRESS: at sentence #970000, processed 6996992 words, keeping 242980 word types\n",
      "2024-12-26 22:18:42,532 : INFO : PROGRESS: at sentence #980000, processed 7068402 words, keeping 244646 word types\n",
      "2024-12-26 22:18:42,544 : INFO : PROGRESS: at sentence #990000, processed 7140346 words, keeping 246186 word types\n",
      "2024-12-26 22:18:42,557 : INFO : PROGRESS: at sentence #1000000, processed 7211757 words, keeping 247726 word types\n",
      "2024-12-26 22:18:42,569 : INFO : PROGRESS: at sentence #1010000, processed 7283267 words, keeping 249288 word types\n",
      "2024-12-26 22:18:42,582 : INFO : PROGRESS: at sentence #1020000, processed 7355299 words, keeping 250860 word types\n",
      "2024-12-26 22:18:42,594 : INFO : PROGRESS: at sentence #1030000, processed 7426918 words, keeping 252366 word types\n",
      "2024-12-26 22:18:42,607 : INFO : PROGRESS: at sentence #1040000, processed 7498815 words, keeping 253930 word types\n",
      "2024-12-26 22:18:42,620 : INFO : PROGRESS: at sentence #1050000, processed 7570499 words, keeping 255471 word types\n",
      "2024-12-26 22:18:42,632 : INFO : PROGRESS: at sentence #1060000, processed 7643251 words, keeping 257035 word types\n",
      "2024-12-26 22:18:42,645 : INFO : PROGRESS: at sentence #1070000, processed 7714721 words, keeping 258509 word types\n",
      "2024-12-26 22:18:42,659 : INFO : PROGRESS: at sentence #1080000, processed 7787371 words, keeping 260071 word types\n",
      "2024-12-26 22:18:42,671 : INFO : PROGRESS: at sentence #1090000, processed 7859336 words, keeping 261683 word types\n",
      "2024-12-26 22:18:42,684 : INFO : PROGRESS: at sentence #1100000, processed 7932029 words, keeping 263278 word types\n",
      "2024-12-26 22:18:42,696 : INFO : PROGRESS: at sentence #1110000, processed 8004146 words, keeping 264800 word types\n",
      "2024-12-26 22:18:42,709 : INFO : PROGRESS: at sentence #1120000, processed 8075880 words, keeping 266309 word types\n",
      "2024-12-26 22:18:42,722 : INFO : PROGRESS: at sentence #1130000, processed 8148163 words, keeping 267826 word types\n",
      "2024-12-26 22:18:42,734 : INFO : PROGRESS: at sentence #1140000, processed 8220487 words, keeping 269391 word types\n",
      "2024-12-26 22:18:42,747 : INFO : PROGRESS: at sentence #1150000, processed 8292498 words, keeping 270894 word types\n",
      "2024-12-26 22:18:42,760 : INFO : PROGRESS: at sentence #1160000, processed 8363838 words, keeping 272400 word types\n",
      "2024-12-26 22:18:42,773 : INFO : PROGRESS: at sentence #1170000, processed 8435510 words, keeping 273970 word types\n",
      "2024-12-26 22:18:42,787 : INFO : PROGRESS: at sentence #1180000, processed 8507795 words, keeping 275521 word types\n",
      "2024-12-26 22:18:42,800 : INFO : PROGRESS: at sentence #1190000, processed 8579080 words, keeping 277007 word types\n",
      "2024-12-26 22:18:42,813 : INFO : PROGRESS: at sentence #1200000, processed 8650606 words, keeping 278457 word types\n",
      "2024-12-26 22:18:42,827 : INFO : PROGRESS: at sentence #1210000, processed 8721893 words, keeping 279959 word types\n",
      "2024-12-26 22:18:42,840 : INFO : PROGRESS: at sentence #1220000, processed 8793795 words, keeping 281427 word types\n",
      "2024-12-26 22:18:42,853 : INFO : PROGRESS: at sentence #1230000, processed 8865726 words, keeping 282981 word types\n",
      "2024-12-26 22:18:42,866 : INFO : PROGRESS: at sentence #1240000, processed 8938173 words, keeping 284542 word types\n",
      "2024-12-26 22:18:42,879 : INFO : PROGRESS: at sentence #1250000, processed 9010842 words, keeping 286064 word types\n",
      "2024-12-26 22:18:42,891 : INFO : PROGRESS: at sentence #1260000, processed 9083261 words, keeping 287521 word types\n",
      "2024-12-26 22:18:42,904 : INFO : PROGRESS: at sentence #1270000, processed 9155616 words, keeping 288987 word types\n",
      "2024-12-26 22:18:42,917 : INFO : collected 290418 word types from a corpus of 9227204 raw words and 1280000 sentences\n",
      "2024-12-26 22:18:42,917 : INFO : Creating a fresh vocabulary\n",
      "2024-12-26 22:18:43,068 : INFO : Word2Vec lifecycle event {'msg': 'effective_min_count=10 retains 30369 unique words (10.46% of original 290418, drops 260049)', 'datetime': '2024-12-26T22:18:43.068817', 'gensim': '4.3.3', 'python': '3.10.12 (main, Nov  6 2024, 20:22:13) [GCC 11.4.0]', 'platform': 'Linux-6.8.0-49-generic-x86_64-with-glibc2.35', 'event': 'prepare_vocab'}\n",
      "2024-12-26 22:18:43,069 : INFO : Word2Vec lifecycle event {'msg': 'effective_min_count=10 leaves 8780739 word corpus (95.16% of original 9227204, drops 446465)', 'datetime': '2024-12-26T22:18:43.069516', 'gensim': '4.3.3', 'python': '3.10.12 (main, Nov  6 2024, 20:22:13) [GCC 11.4.0]', 'platform': 'Linux-6.8.0-49-generic-x86_64-with-glibc2.35', 'event': 'prepare_vocab'}\n",
      "2024-12-26 22:18:43,255 : INFO : deleting the raw counts dictionary of 290418 items\n",
      "2024-12-26 22:18:43,261 : INFO : sample=0.001 downsamples 45 most-common words\n",
      "2024-12-26 22:18:43,261 : INFO : Word2Vec lifecycle event {'msg': 'downsampling leaves estimated 8222658.616429881 word corpus (93.6%% of prior 8780739)', 'datetime': '2024-12-26T22:18:43.261967', 'gensim': '4.3.3', 'python': '3.10.12 (main, Nov  6 2024, 20:22:13) [GCC 11.4.0]', 'platform': 'Linux-6.8.0-49-generic-x86_64-with-glibc2.35', 'event': 'prepare_vocab'}\n",
      "2024-12-26 22:18:43,582 : INFO : estimated required memory for 30369 words and 300 dimensions: 88070100 bytes\n",
      "2024-12-26 22:18:43,583 : INFO : resetting layer weights\n",
      "2024-12-26 22:18:43,624 : INFO : Word2Vec lifecycle event {'update': False, 'trim_rule': 'None', 'datetime': '2024-12-26T22:18:43.624345', 'gensim': '4.3.3', 'python': '3.10.12 (main, Nov  6 2024, 20:22:13) [GCC 11.4.0]', 'platform': 'Linux-6.8.0-49-generic-x86_64-with-glibc2.35', 'event': 'build_vocab'}\n"
     ]
    }
   ],
   "execution_count": 16
  },
  {
   "metadata": {
    "trusted": true,
    "_uuid": "72a5628ca81fd4b8983c12d93ae0bf950b86b6ae",
    "ExecuteTime": {
     "end_time": "2024-12-26T16:48:43.644550Z",
     "start_time": "2024-12-26T16:48:43.640962Z"
    }
   },
   "cell_type": "code",
   "source": [
    "words = w2v_model.wv.index_to_key\n",
    "vocab_size = len(words)\n",
    "print(\"Vocab size:\", vocab_size)\n"
   ],
   "outputs": [
    {
     "name": "stdout",
     "output_type": "stream",
     "text": [
      "Vocab size: 30369\n"
     ]
    }
   ],
   "execution_count": 17
  },
  {
   "metadata": {
    "trusted": true,
    "_uuid": "68c3e4a5ba07cac3dee67f78ecdd1404c7f83f14",
    "ExecuteTime": {
     "end_time": "2024-12-26T16:50:14.700285Z",
     "start_time": "2024-12-26T16:48:43.697233Z"
    }
   },
   "cell_type": "code",
   "source": "%%time\nw2v_model.train(documents, total_examples=len(documents), epochs=W2V_EPOCH)",
   "outputs": [
    {
     "name": "stderr",
     "output_type": "stream",
     "text": [
      "2024-12-26 22:18:43,698 : INFO : Word2Vec lifecycle event {'msg': 'training model with 8 workers on 30369 vocabulary and 300 features, using sg=0 hs=0 sample=0.001 negative=5 window=7 shrink_windows=True', 'datetime': '2024-12-26T22:18:43.698426', 'gensim': '4.3.3', 'python': '3.10.12 (main, Nov  6 2024, 20:22:13) [GCC 11.4.0]', 'platform': 'Linux-6.8.0-49-generic-x86_64-with-glibc2.35', 'event': 'train'}\n",
      "2024-12-26 22:18:44,714 : INFO : EPOCH 0 - PROGRESS: at 34.68% examples, 2832777 words/s, in_qsize 15, out_qsize 1\n",
      "2024-12-26 22:18:45,716 : INFO : EPOCH 0 - PROGRESS: at 71.57% examples, 2931989 words/s, in_qsize 14, out_qsize 5\n",
      "2024-12-26 22:18:46,465 : INFO : EPOCH 0: training on 9227204 raw words (8222794 effective words) took 2.8s, 2981967 effective words/s\n",
      "2024-12-26 22:18:47,474 : INFO : EPOCH 1 - PROGRESS: at 35.65% examples, 2926272 words/s, in_qsize 15, out_qsize 0\n",
      "2024-12-26 22:18:48,481 : INFO : EPOCH 1 - PROGRESS: at 72.75% examples, 2980695 words/s, in_qsize 12, out_qsize 5\n",
      "2024-12-26 22:18:49,174 : INFO : EPOCH 1: training on 9227204 raw words (8222099 effective words) took 2.7s, 3043814 effective words/s\n",
      "2024-12-26 22:18:50,187 : INFO : EPOCH 2 - PROGRESS: at 33.70% examples, 2759475 words/s, in_qsize 15, out_qsize 0\n",
      "2024-12-26 22:18:51,191 : INFO : EPOCH 2 - PROGRESS: at 69.39% examples, 2844986 words/s, in_qsize 15, out_qsize 1\n",
      "2024-12-26 22:18:52,038 : INFO : EPOCH 2: training on 9227204 raw words (8223262 effective words) took 2.9s, 2881033 effective words/s\n",
      "2024-12-26 22:18:53,051 : INFO : EPOCH 3 - PROGRESS: at 34.02% examples, 2780751 words/s, in_qsize 16, out_qsize 6\n",
      "2024-12-26 22:18:54,052 : INFO : EPOCH 3 - PROGRESS: at 70.05% examples, 2872833 words/s, in_qsize 16, out_qsize 2\n",
      "2024-12-26 22:18:54,878 : INFO : EPOCH 3: training on 9227204 raw words (8222965 effective words) took 2.8s, 2902678 effective words/s\n",
      "2024-12-26 22:18:55,898 : INFO : EPOCH 4 - PROGRESS: at 34.67% examples, 2819905 words/s, in_qsize 12, out_qsize 4\n",
      "2024-12-26 22:18:56,899 : INFO : EPOCH 4 - PROGRESS: at 71.24% examples, 2912746 words/s, in_qsize 13, out_qsize 0\n",
      "2024-12-26 22:18:57,694 : INFO : EPOCH 4: training on 9227204 raw words (8222321 effective words) took 2.8s, 2929252 effective words/s\n",
      "2024-12-26 22:18:58,703 : INFO : EPOCH 5 - PROGRESS: at 36.07% examples, 2963526 words/s, in_qsize 15, out_qsize 0\n",
      "2024-12-26 22:18:59,704 : INFO : EPOCH 5 - PROGRESS: at 72.53% examples, 2981995 words/s, in_qsize 14, out_qsize 1\n",
      "2024-12-26 22:19:00,448 : INFO : EPOCH 5: training on 9227204 raw words (8221698 effective words) took 2.7s, 2995132 effective words/s\n",
      "2024-12-26 22:19:01,465 : INFO : EPOCH 6 - PROGRESS: at 35.10% examples, 2858673 words/s, in_qsize 16, out_qsize 1\n",
      "2024-12-26 22:19:02,468 : INFO : EPOCH 6 - PROGRESS: at 71.78% examples, 2933896 words/s, in_qsize 16, out_qsize 0\n",
      "2024-12-26 22:19:03,233 : INFO : EPOCH 6: training on 9227204 raw words (8221940 effective words) took 2.8s, 2960135 effective words/s\n",
      "2024-12-26 22:19:04,240 : INFO : EPOCH 7 - PROGRESS: at 34.46% examples, 2831654 words/s, in_qsize 16, out_qsize 0\n",
      "2024-12-26 22:19:05,244 : INFO : EPOCH 7 - PROGRESS: at 69.61% examples, 2857825 words/s, in_qsize 15, out_qsize 0\n",
      "2024-12-26 22:19:06,097 : INFO : EPOCH 7: training on 9227204 raw words (8221911 effective words) took 2.9s, 2878075 effective words/s\n",
      "2024-12-26 22:19:07,109 : INFO : EPOCH 8 - PROGRESS: at 34.13% examples, 2791265 words/s, in_qsize 16, out_qsize 3\n",
      "2024-12-26 22:19:08,111 : INFO : EPOCH 8 - PROGRESS: at 69.50% examples, 2849846 words/s, in_qsize 16, out_qsize 0\n",
      "2024-12-26 22:19:08,964 : INFO : EPOCH 8: training on 9227204 raw words (8223218 effective words) took 2.9s, 2875666 effective words/s\n",
      "2024-12-26 22:19:09,972 : INFO : EPOCH 9 - PROGRESS: at 34.78% examples, 2854672 words/s, in_qsize 16, out_qsize 0\n",
      "2024-12-26 22:19:10,990 : INFO : EPOCH 9 - PROGRESS: at 70.80% examples, 2885036 words/s, in_qsize 15, out_qsize 3\n",
      "2024-12-26 22:19:11,821 : INFO : EPOCH 9: training on 9227204 raw words (8222959 effective words) took 2.9s, 2885137 effective words/s\n",
      "2024-12-26 22:19:12,838 : INFO : EPOCH 10 - PROGRESS: at 33.81% examples, 2752296 words/s, in_qsize 16, out_qsize 0\n",
      "2024-12-26 22:19:13,842 : INFO : EPOCH 10 - PROGRESS: at 69.83% examples, 2853201 words/s, in_qsize 14, out_qsize 2\n",
      "2024-12-26 22:19:14,646 : INFO : EPOCH 10: training on 9227204 raw words (8223677 effective words) took 2.8s, 2918664 effective words/s\n",
      "2024-12-26 22:19:15,658 : INFO : EPOCH 11 - PROGRESS: at 35.75% examples, 2928933 words/s, in_qsize 15, out_qsize 0\n",
      "2024-12-26 22:19:16,662 : INFO : EPOCH 11 - PROGRESS: at 71.13% examples, 2915096 words/s, in_qsize 15, out_qsize 0\n",
      "2024-12-26 22:19:17,478 : INFO : EPOCH 11: training on 9227204 raw words (8221098 effective words) took 2.8s, 2912153 effective words/s\n",
      "2024-12-26 22:19:18,488 : INFO : EPOCH 12 - PROGRESS: at 33.16% examples, 2724413 words/s, in_qsize 14, out_qsize 1\n",
      "2024-12-26 22:19:19,488 : INFO : EPOCH 12 - PROGRESS: at 69.18% examples, 2845816 words/s, in_qsize 16, out_qsize 0\n",
      "2024-12-26 22:19:20,346 : INFO : EPOCH 12: training on 9227204 raw words (8222679 effective words) took 2.9s, 2876130 effective words/s\n",
      "2024-12-26 22:19:21,355 : INFO : EPOCH 13 - PROGRESS: at 33.27% examples, 2730462 words/s, in_qsize 15, out_qsize 0\n",
      "2024-12-26 22:19:22,359 : INFO : EPOCH 13 - PROGRESS: at 67.45% examples, 2768259 words/s, in_qsize 16, out_qsize 0\n",
      "2024-12-26 22:19:23,277 : INFO : EPOCH 13: training on 9227204 raw words (8223593 effective words) took 2.9s, 2812970 effective words/s\n",
      "2024-12-26 22:19:24,300 : INFO : EPOCH 14 - PROGRESS: at 34.57% examples, 2805430 words/s, in_qsize 15, out_qsize 0\n",
      "2024-12-26 22:19:25,309 : INFO : EPOCH 14 - PROGRESS: at 70.05% examples, 2850646 words/s, in_qsize 16, out_qsize 0\n",
      "2024-12-26 22:19:26,132 : INFO : EPOCH 14: training on 9227204 raw words (8223781 effective words) took 2.8s, 2890154 effective words/s\n",
      "2024-12-26 22:19:27,152 : INFO : EPOCH 15 - PROGRESS: at 34.89% examples, 2831714 words/s, in_qsize 15, out_qsize 1\n",
      "2024-12-26 22:19:28,159 : INFO : EPOCH 15 - PROGRESS: at 70.80% examples, 2885204 words/s, in_qsize 16, out_qsize 3\n",
      "2024-12-26 22:19:28,975 : INFO : EPOCH 15: training on 9227204 raw words (8222516 effective words) took 2.8s, 2900130 effective words/s\n",
      "2024-12-26 22:19:29,982 : INFO : EPOCH 16 - PROGRESS: at 34.57% examples, 2841296 words/s, in_qsize 15, out_qsize 0\n",
      "2024-12-26 22:19:30,984 : INFO : EPOCH 16 - PROGRESS: at 70.80% examples, 2910961 words/s, in_qsize 16, out_qsize 0\n",
      "2024-12-26 22:19:31,785 : INFO : EPOCH 16: training on 9227204 raw words (8222996 effective words) took 2.8s, 2933298 effective words/s\n",
      "2024-12-26 22:19:32,795 : INFO : EPOCH 17 - PROGRESS: at 34.24% examples, 2808100 words/s, in_qsize 15, out_qsize 0\n",
      "2024-12-26 22:19:33,795 : INFO : EPOCH 17 - PROGRESS: at 70.59% examples, 2900522 words/s, in_qsize 15, out_qsize 0\n",
      "2024-12-26 22:19:34,600 : INFO : EPOCH 17: training on 9227204 raw words (8221962 effective words) took 2.8s, 2928357 effective words/s\n",
      "2024-12-26 22:19:35,613 : INFO : EPOCH 18 - PROGRESS: at 34.78% examples, 2849338 words/s, in_qsize 16, out_qsize 3\n",
      "2024-12-26 22:19:36,613 : INFO : EPOCH 18 - PROGRESS: at 71.24% examples, 2924926 words/s, in_qsize 15, out_qsize 0\n",
      "2024-12-26 22:19:37,487 : INFO : EPOCH 18: training on 9227204 raw words (8222391 effective words) took 2.9s, 2856850 effective words/s\n",
      "2024-12-26 22:19:38,495 : INFO : EPOCH 19 - PROGRESS: at 34.57% examples, 2841168 words/s, in_qsize 15, out_qsize 0\n",
      "2024-12-26 22:19:39,496 : INFO : EPOCH 19 - PROGRESS: at 68.64% examples, 2823199 words/s, in_qsize 15, out_qsize 0\n",
      "2024-12-26 22:19:40,366 : INFO : EPOCH 19: training on 9227204 raw words (8223160 effective words) took 2.9s, 2863956 effective words/s\n",
      "2024-12-26 22:19:41,396 : INFO : EPOCH 20 - PROGRESS: at 33.59% examples, 2705670 words/s, in_qsize 14, out_qsize 5\n",
      "2024-12-26 22:19:42,397 : INFO : EPOCH 20 - PROGRESS: at 69.39% examples, 2824395 words/s, in_qsize 16, out_qsize 0\n",
      "2024-12-26 22:19:43,258 : INFO : EPOCH 20: training on 9227204 raw words (8222786 effective words) took 2.9s, 2852342 effective words/s\n",
      "2024-12-26 22:19:44,266 : INFO : EPOCH 21 - PROGRESS: at 34.24% examples, 2814788 words/s, in_qsize 16, out_qsize 0\n",
      "2024-12-26 22:19:45,277 : INFO : EPOCH 21 - PROGRESS: at 70.91% examples, 2902765 words/s, in_qsize 15, out_qsize 0\n",
      "2024-12-26 22:19:46,043 : INFO : EPOCH 21: training on 9227204 raw words (8223114 effective words) took 2.8s, 2961902 effective words/s\n",
      "2024-12-26 22:19:47,054 : INFO : EPOCH 22 - PROGRESS: at 34.13% examples, 2794234 words/s, in_qsize 15, out_qsize 0\n",
      "2024-12-26 22:19:48,060 : INFO : EPOCH 22 - PROGRESS: at 69.18% examples, 2831330 words/s, in_qsize 15, out_qsize 2\n",
      "2024-12-26 22:19:48,872 : INFO : EPOCH 22: training on 9227204 raw words (8222986 effective words) took 2.8s, 2913167 effective words/s\n",
      "2024-12-26 22:19:49,886 : INFO : EPOCH 23 - PROGRESS: at 34.78% examples, 2846870 words/s, in_qsize 16, out_qsize 0\n",
      "2024-12-26 22:19:50,889 : INFO : EPOCH 23 - PROGRESS: at 71.13% examples, 2915507 words/s, in_qsize 16, out_qsize 1\n",
      "2024-12-26 22:19:51,698 : INFO : EPOCH 23: training on 9227204 raw words (8223494 effective words) took 2.8s, 2919196 effective words/s\n",
      "2024-12-26 22:19:52,709 : INFO : EPOCH 24 - PROGRESS: at 34.68% examples, 2847054 words/s, in_qsize 15, out_qsize 0\n",
      "2024-12-26 22:19:53,712 : INFO : EPOCH 24 - PROGRESS: at 67.77% examples, 2782342 words/s, in_qsize 15, out_qsize 0\n",
      "2024-12-26 22:19:54,618 : INFO : EPOCH 24: training on 9227204 raw words (8223309 effective words) took 2.9s, 2825249 effective words/s\n",
      "2024-12-26 22:19:55,630 : INFO : EPOCH 25 - PROGRESS: at 33.59% examples, 2747262 words/s, in_qsize 15, out_qsize 0\n",
      "2024-12-26 22:19:56,639 : INFO : EPOCH 25 - PROGRESS: at 68.10% examples, 2783064 words/s, in_qsize 14, out_qsize 2\n",
      "2024-12-26 22:19:57,550 : INFO : EPOCH 25: training on 9227204 raw words (8222507 effective words) took 2.9s, 2811256 effective words/s\n",
      "2024-12-26 22:19:58,559 : INFO : EPOCH 26 - PROGRESS: at 35.54% examples, 2916068 words/s, in_qsize 15, out_qsize 0\n",
      "2024-12-26 22:19:59,564 : INFO : EPOCH 26 - PROGRESS: at 71.02% examples, 2912156 words/s, in_qsize 16, out_qsize 1\n",
      "2024-12-26 22:20:00,334 : INFO : EPOCH 26: training on 9227204 raw words (8222214 effective words) took 2.8s, 2960778 effective words/s\n",
      "2024-12-26 22:20:01,357 : INFO : EPOCH 27 - PROGRESS: at 33.38% examples, 2700841 words/s, in_qsize 15, out_qsize 0\n",
      "2024-12-26 22:20:02,363 : INFO : EPOCH 27 - PROGRESS: at 69.50% examples, 2829277 words/s, in_qsize 15, out_qsize 0\n",
      "2024-12-26 22:20:03,227 : INFO : EPOCH 27: training on 9227204 raw words (8221912 effective words) took 2.9s, 2849469 effective words/s\n",
      "2024-12-26 22:20:04,236 : INFO : EPOCH 28 - PROGRESS: at 35.10% examples, 2879881 words/s, in_qsize 15, out_qsize 0\n",
      "2024-12-26 22:20:05,242 : INFO : EPOCH 28 - PROGRESS: at 69.83% examples, 2860798 words/s, in_qsize 12, out_qsize 4\n",
      "2024-12-26 22:20:06,089 : INFO : EPOCH 28: training on 9227204 raw words (8222525 effective words) took 2.9s, 2879105 effective words/s\n",
      "2024-12-26 22:20:07,101 : INFO : EPOCH 29 - PROGRESS: at 33.81% examples, 2772000 words/s, in_qsize 15, out_qsize 0\n",
      "2024-12-26 22:20:08,104 : INFO : EPOCH 29 - PROGRESS: at 70.37% examples, 2887774 words/s, in_qsize 16, out_qsize 0\n",
      "2024-12-26 22:20:08,936 : INFO : EPOCH 29: training on 9227204 raw words (8223140 effective words) took 2.8s, 2897556 effective words/s\n",
      "2024-12-26 22:20:09,951 : INFO : EPOCH 30 - PROGRESS: at 33.92% examples, 2769248 words/s, in_qsize 16, out_qsize 6\n",
      "2024-12-26 22:20:10,956 : INFO : EPOCH 30 - PROGRESS: at 68.85% examples, 2815491 words/s, in_qsize 14, out_qsize 3\n",
      "2024-12-26 22:20:11,810 : INFO : EPOCH 30: training on 9227204 raw words (8222810 effective words) took 2.9s, 2868697 effective words/s\n",
      "2024-12-26 22:20:12,820 : INFO : EPOCH 31 - PROGRESS: at 34.13% examples, 2798842 words/s, in_qsize 16, out_qsize 0\n",
      "2024-12-26 22:20:13,829 : INFO : EPOCH 31 - PROGRESS: at 68.64% examples, 2807383 words/s, in_qsize 16, out_qsize 0\n",
      "2024-12-26 22:20:14,696 : INFO : EPOCH 31: training on 9227204 raw words (8223263 effective words) took 2.9s, 2856691 effective words/s\n",
      "2024-12-26 22:20:14,696 : INFO : Word2Vec lifecycle event {'msg': 'training on 295270528 raw words (263127080 effective words) took 91.0s, 2891587 effective words/s', 'datetime': '2024-12-26T22:20:14.696943', 'gensim': '4.3.3', 'python': '3.10.12 (main, Nov  6 2024, 20:22:13) [GCC 11.4.0]', 'platform': 'Linux-6.8.0-49-generic-x86_64-with-glibc2.35', 'event': 'train'}\n"
     ]
    },
    {
     "name": "stdout",
     "output_type": "stream",
     "text": [
      "CPU times: user 8min 58s, sys: 2.15 s, total: 9min 1s\n",
      "Wall time: 1min 30s\n"
     ]
    },
    {
     "data": {
      "text/plain": [
       "(263127080, 295270528)"
      ]
     },
     "execution_count": 18,
     "metadata": {},
     "output_type": "execute_result"
    }
   ],
   "execution_count": 18
  },
  {
   "metadata": {
    "trusted": true,
    "_uuid": "27cc2651c74227115d8bfd8c40e5618048e05edd",
    "ExecuteTime": {
     "end_time": "2024-12-26T16:50:14.763400Z",
     "start_time": "2024-12-26T16:50:14.743647Z"
    }
   },
   "cell_type": "code",
   "source": [
    "similar_words = w2v_model.wv.most_similar(\"love\")\n",
    "print(similar_words)\n"
   ],
   "outputs": [
    {
     "name": "stdout",
     "output_type": "stream",
     "text": [
      "[('luv', 0.5723538994789124), ('loves', 0.5590510964393616), ('loved', 0.5329751968383789), ('amazing', 0.5068702697753906), ('adore', 0.501704752445221), ('looove', 0.4970366656780243), ('lovee', 0.46299248933792114), ('awesome', 0.45485374331474304), ('loooove', 0.4504445493221283), ('loove', 0.4311593174934387)]\n"
     ]
    }
   ],
   "execution_count": 19
  },
  {
   "metadata": {
    "_uuid": "e13563644468037258598637b49373ca96b9b879"
   },
   "cell_type": "markdown",
   "source": "### Tokenize Text"
  },
  {
   "metadata": {
    "trusted": true,
    "_uuid": "6852bc709a7cd20173cbeeb218505078f8f37c57",
    "ExecuteTime": {
     "end_time": "2024-12-26T16:50:26.897067Z",
     "start_time": "2024-12-26T16:50:14.853980Z"
    }
   },
   "cell_type": "code",
   "source": "%%time\ntokenizer = Tokenizer()\ntokenizer.fit_on_texts(df_train.text)\n\nvocab_size = len(tokenizer.word_index) + 1\nprint(\"Total words\", vocab_size)",
   "outputs": [
    {
     "name": "stdout",
     "output_type": "stream",
     "text": [
      "Total words 290419\n",
      "CPU times: user 12 s, sys: 86.6 ms, total: 12.1 s\n",
      "Wall time: 12 s\n"
     ]
    }
   ],
   "execution_count": 20
  },
  {
   "metadata": {
    "trusted": true,
    "_uuid": "45de439df3015030c71f84c2d170346936a1d68f",
    "ExecuteTime": {
     "end_time": "2024-12-26T16:50:45.231155Z",
     "start_time": "2024-12-26T16:50:26.929012Z"
    }
   },
   "cell_type": "code",
   "source": "%%time\nx_train = pad_sequences(tokenizer.texts_to_sequences(df_train.text), maxlen=SEQUENCE_LENGTH)\nx_test = pad_sequences(tokenizer.texts_to_sequences(df_test.text), maxlen=SEQUENCE_LENGTH)",
   "outputs": [
    {
     "name": "stdout",
     "output_type": "stream",
     "text": [
      "CPU times: user 18 s, sys: 338 ms, total: 18.3 s\n",
      "Wall time: 18.3 s\n"
     ]
    }
   ],
   "execution_count": 21
  },
  {
   "metadata": {
    "_uuid": "03b35903fc6260e190d6928d240ef7432de117fc"
   },
   "cell_type": "markdown",
   "source": "### Label Encoder "
  },
  {
   "metadata": {
    "trusted": true,
    "_uuid": "33676e0efa39e97d89bd650b8b4eae933a22fbf0",
    "ExecuteTime": {
     "end_time": "2024-12-26T16:50:45.342515Z",
     "start_time": "2024-12-26T16:50:45.280828Z"
    }
   },
   "cell_type": "code",
   "source": "labels = df_train.target.unique().tolist()\nlabels.append(NEUTRAL)\nlabels",
   "outputs": [
    {
     "data": {
      "text/plain": [
       "['POSITIVE', 'NEGATIVE', 'NEUTRAL']"
      ]
     },
     "execution_count": 22,
     "metadata": {},
     "output_type": "execute_result"
    }
   ],
   "execution_count": 22
  },
  {
   "metadata": {
    "trusted": true,
    "_uuid": "04239a9bef76e7922fd86098a5601dfde8ee4665",
    "ExecuteTime": {
     "end_time": "2024-12-26T16:50:46.193241Z",
     "start_time": "2024-12-26T16:50:45.363753Z"
    }
   },
   "cell_type": "code",
   "source": "encoder = LabelEncoder()\nencoder.fit(df_train.target.tolist())\n\ny_train = encoder.transform(df_train.target.tolist())\ny_test = encoder.transform(df_test.target.tolist())\n\ny_train = y_train.reshape(-1,1)\ny_test = y_test.reshape(-1,1)\n\nprint(\"y_train\",y_train.shape)\nprint(\"y_test\",y_test.shape)",
   "outputs": [
    {
     "name": "stdout",
     "output_type": "stream",
     "text": [
      "y_train (1280000, 1)\n",
      "y_test (320000, 1)\n"
     ]
    }
   ],
   "execution_count": 23
  },
  {
   "metadata": {
    "trusted": true,
    "_uuid": "04299c886911ca135583ab64878f213939a2990c",
    "ExecuteTime": {
     "end_time": "2024-12-26T16:50:46.225866Z",
     "start_time": "2024-12-26T16:50:46.222186Z"
    }
   },
   "cell_type": "code",
   "source": "print(\"x_train\", x_train.shape)\nprint(\"y_train\", y_train.shape)\nprint()\nprint(\"x_test\", x_test.shape)\nprint(\"y_test\", y_test.shape)",
   "outputs": [
    {
     "name": "stdout",
     "output_type": "stream",
     "text": [
      "x_train (1280000, 300)\n",
      "y_train (1280000, 1)\n",
      "\n",
      "x_test (320000, 300)\n",
      "y_test (320000, 1)\n"
     ]
    }
   ],
   "execution_count": 24
  },
  {
   "metadata": {
    "trusted": true,
    "_uuid": "232533fb27b7be99d9b8c2f8fb22c9c6bf121a6f",
    "ExecuteTime": {
     "end_time": "2024-12-26T16:50:46.280186Z",
     "start_time": "2024-12-26T16:50:46.276127Z"
    }
   },
   "cell_type": "code",
   "source": "y_train[:10]",
   "outputs": [
    {
     "data": {
      "text/plain": [
       "array([[1],\n",
       "       [1],\n",
       "       [1],\n",
       "       [0],\n",
       "       [1],\n",
       "       [1],\n",
       "       [1],\n",
       "       [1],\n",
       "       [1],\n",
       "       [1]])"
      ]
     },
     "execution_count": 25,
     "metadata": {},
     "output_type": "execute_result"
    }
   ],
   "execution_count": 25
  },
  {
   "metadata": {
    "_uuid": "233c0ea94055a03e2e7df3e2a13d036ec963484f"
   },
   "cell_type": "markdown",
   "source": "### Embedding layer"
  },
  {
   "metadata": {
    "trusted": true,
    "_uuid": "9ab488374b59e3f30f8b1ea92767d853c4846bac",
    "ExecuteTime": {
     "end_time": "2024-12-26T16:50:46.606769Z",
     "start_time": "2024-12-26T16:50:46.356773Z"
    }
   },
   "cell_type": "code",
   "source": "embedding_matrix = np.zeros((vocab_size, W2V_SIZE))\nfor word, i in tokenizer.word_index.items():\n  if word in w2v_model.wv:\n    embedding_matrix[i] = w2v_model.wv[word]\nprint(embedding_matrix.shape)",
   "outputs": [
    {
     "name": "stdout",
     "output_type": "stream",
     "text": [
      "(290419, 300)\n"
     ]
    }
   ],
   "execution_count": 26
  },
  {
   "metadata": {
    "trusted": true,
    "_uuid": "833279d91e4286065968237fb5f2a0c2dd4d246c",
    "ExecuteTime": {
     "end_time": "2024-12-26T16:50:48.038Z",
     "start_time": "2024-12-26T16:50:46.658198Z"
    }
   },
   "cell_type": "code",
   "source": "embedding_layer = Embedding(vocab_size, W2V_SIZE, weights=[embedding_matrix], input_length=SEQUENCE_LENGTH, trainable=False)",
   "outputs": [
    {
     "name": "stderr",
     "output_type": "stream",
     "text": [
      "/home/jaeyesh/PycharmProjects/SA/.venv/lib/python3.10/site-packages/keras/src/layers/core/embedding.py:90: UserWarning: Argument `input_length` is deprecated. Just remove it.\n",
      "  warnings.warn(\n",
      "I0000 00:00:1735231846.917915    6833 gpu_device.cc:2022] Created device /job:localhost/replica:0/task:0/device:GPU:0 with 4280 MB memory:  -> device: 0, name: NVIDIA GeForce RTX 3060 Laptop GPU, pci bus id: 0000:01:00.0, compute capability: 8.6\n"
     ]
    }
   ],
   "execution_count": 27
  },
  {
   "metadata": {
    "_uuid": "b299ef78f94c2085942c993a2d58753a7476305a"
   },
   "cell_type": "markdown",
   "source": "### Build Model"
  },
  {
   "metadata": {
    "trusted": true,
    "_uuid": "e775ef4f1b74e6412457181383c39f2df554ef3f",
    "ExecuteTime": {
     "end_time": "2024-12-26T16:50:48.070571Z",
     "start_time": "2024-12-26T16:50:48.050692Z"
    }
   },
   "cell_type": "code",
   "source": [
    "# Define the model\n",
    "model = Sequential()\n",
    "model.add(embedding_layer)  # Ensure embedding_layer is defined earlier in the script\n",
    "model.add(Dropout(0.5))\n",
    "model.add(LSTM(100, dropout=0.2, recurrent_dropout=0.2))\n",
    "model.add(Dense(1, activation='sigmoid'))\n",
    "\n",
    "# Model summary\n",
    "model.summary()"
   ],
   "outputs": [
    {
     "data": {
      "text/plain": [
       "\u001B[1mModel: \"sequential\"\u001B[0m\n"
      ],
      "text/html": [
       "<pre style=\"white-space:pre;overflow-x:auto;line-height:normal;font-family:Menlo,'DejaVu Sans Mono',consolas,'Courier New',monospace\"><span style=\"font-weight: bold\">Model: \"sequential\"</span>\n",
       "</pre>\n"
      ]
     },
     "metadata": {},
     "output_type": "display_data"
    },
    {
     "data": {
      "text/plain": [
       "┏━━━━━━━━━━━━━━━━━━━━━━━━━━━━━━━━━┳━━━━━━━━━━━━━━━━━━━━━━━━┳━━━━━━━━━━━━━━━┓\n",
       "┃\u001B[1m \u001B[0m\u001B[1mLayer (type)                   \u001B[0m\u001B[1m \u001B[0m┃\u001B[1m \u001B[0m\u001B[1mOutput Shape          \u001B[0m\u001B[1m \u001B[0m┃\u001B[1m \u001B[0m\u001B[1m      Param #\u001B[0m\u001B[1m \u001B[0m┃\n",
       "┡━━━━━━━━━━━━━━━━━━━━━━━━━━━━━━━━━╇━━━━━━━━━━━━━━━━━━━━━━━━╇━━━━━━━━━━━━━━━┩\n",
       "│ embedding (\u001B[38;5;33mEmbedding\u001B[0m)           │ ?                      │    \u001B[38;5;34m87,125,700\u001B[0m │\n",
       "├─────────────────────────────────┼────────────────────────┼───────────────┤\n",
       "│ dropout (\u001B[38;5;33mDropout\u001B[0m)               │ ?                      │             \u001B[38;5;34m0\u001B[0m │\n",
       "├─────────────────────────────────┼────────────────────────┼───────────────┤\n",
       "│ lstm (\u001B[38;5;33mLSTM\u001B[0m)                     │ ?                      │   \u001B[38;5;34m0\u001B[0m (unbuilt) │\n",
       "├─────────────────────────────────┼────────────────────────┼───────────────┤\n",
       "│ dense (\u001B[38;5;33mDense\u001B[0m)                   │ ?                      │   \u001B[38;5;34m0\u001B[0m (unbuilt) │\n",
       "└─────────────────────────────────┴────────────────────────┴───────────────┘\n"
      ],
      "text/html": [
       "<pre style=\"white-space:pre;overflow-x:auto;line-height:normal;font-family:Menlo,'DejaVu Sans Mono',consolas,'Courier New',monospace\">┏━━━━━━━━━━━━━━━━━━━━━━━━━━━━━━━━━┳━━━━━━━━━━━━━━━━━━━━━━━━┳━━━━━━━━━━━━━━━┓\n",
       "┃<span style=\"font-weight: bold\"> Layer (type)                    </span>┃<span style=\"font-weight: bold\"> Output Shape           </span>┃<span style=\"font-weight: bold\">       Param # </span>┃\n",
       "┡━━━━━━━━━━━━━━━━━━━━━━━━━━━━━━━━━╇━━━━━━━━━━━━━━━━━━━━━━━━╇━━━━━━━━━━━━━━━┩\n",
       "│ embedding (<span style=\"color: #0087ff; text-decoration-color: #0087ff\">Embedding</span>)           │ ?                      │    <span style=\"color: #00af00; text-decoration-color: #00af00\">87,125,700</span> │\n",
       "├─────────────────────────────────┼────────────────────────┼───────────────┤\n",
       "│ dropout (<span style=\"color: #0087ff; text-decoration-color: #0087ff\">Dropout</span>)               │ ?                      │             <span style=\"color: #00af00; text-decoration-color: #00af00\">0</span> │\n",
       "├─────────────────────────────────┼────────────────────────┼───────────────┤\n",
       "│ lstm (<span style=\"color: #0087ff; text-decoration-color: #0087ff\">LSTM</span>)                     │ ?                      │   <span style=\"color: #00af00; text-decoration-color: #00af00\">0</span> (unbuilt) │\n",
       "├─────────────────────────────────┼────────────────────────┼───────────────┤\n",
       "│ dense (<span style=\"color: #0087ff; text-decoration-color: #0087ff\">Dense</span>)                   │ ?                      │   <span style=\"color: #00af00; text-decoration-color: #00af00\">0</span> (unbuilt) │\n",
       "└─────────────────────────────────┴────────────────────────┴───────────────┘\n",
       "</pre>\n"
      ]
     },
     "metadata": {},
     "output_type": "display_data"
    },
    {
     "data": {
      "text/plain": [
       "\u001B[1m Total params: \u001B[0m\u001B[38;5;34m87,125,700\u001B[0m (332.36 MB)\n"
      ],
      "text/html": [
       "<pre style=\"white-space:pre;overflow-x:auto;line-height:normal;font-family:Menlo,'DejaVu Sans Mono',consolas,'Courier New',monospace\"><span style=\"font-weight: bold\"> Total params: </span><span style=\"color: #00af00; text-decoration-color: #00af00\">87,125,700</span> (332.36 MB)\n",
       "</pre>\n"
      ]
     },
     "metadata": {},
     "output_type": "display_data"
    },
    {
     "data": {
      "text/plain": [
       "\u001B[1m Trainable params: \u001B[0m\u001B[38;5;34m0\u001B[0m (0.00 B)\n"
      ],
      "text/html": [
       "<pre style=\"white-space:pre;overflow-x:auto;line-height:normal;font-family:Menlo,'DejaVu Sans Mono',consolas,'Courier New',monospace\"><span style=\"font-weight: bold\"> Trainable params: </span><span style=\"color: #00af00; text-decoration-color: #00af00\">0</span> (0.00 B)\n",
       "</pre>\n"
      ]
     },
     "metadata": {},
     "output_type": "display_data"
    },
    {
     "data": {
      "text/plain": [
       "\u001B[1m Non-trainable params: \u001B[0m\u001B[38;5;34m87,125,700\u001B[0m (332.36 MB)\n"
      ],
      "text/html": [
       "<pre style=\"white-space:pre;overflow-x:auto;line-height:normal;font-family:Menlo,'DejaVu Sans Mono',consolas,'Courier New',monospace\"><span style=\"font-weight: bold\"> Non-trainable params: </span><span style=\"color: #00af00; text-decoration-color: #00af00\">87,125,700</span> (332.36 MB)\n",
       "</pre>\n"
      ]
     },
     "metadata": {},
     "output_type": "display_data"
    }
   ],
   "execution_count": 28
  },
  {
   "metadata": {
    "_uuid": "28d22eafd0c7d798dcf3d742bc92fb8577939e6c"
   },
   "cell_type": "markdown",
   "source": "### Compile model"
  },
  {
   "metadata": {
    "trusted": true,
    "_uuid": "1331e08d590bb2aa2033706c8faca217afc0f1c3",
    "ExecuteTime": {
     "end_time": "2024-12-26T16:50:48.137086Z",
     "start_time": "2024-12-26T16:50:48.126682Z"
    }
   },
   "cell_type": "code",
   "source": [
    "# Compile the model\n",
    "model.compile(\n",
    "    loss='binary_crossentropy',\n",
    "    optimizer='adam',\n",
    "    metrics=['accuracy']\n",
    ")"
   ],
   "outputs": [],
   "execution_count": 29
  },
  {
   "metadata": {
    "_uuid": "c7733127cb8b380e0c807268903bf4d03ef92542"
   },
   "cell_type": "markdown",
   "source": "### Callbacks"
  },
  {
   "metadata": {
    "trusted": true,
    "_uuid": "a688df590386f5748da6fe00b01904fe6c71619e",
    "ExecuteTime": {
     "end_time": "2024-12-26T16:50:48.192532Z",
     "start_time": "2024-12-26T16:50:48.190288Z"
    }
   },
   "cell_type": "code",
   "source": [
    "# Define callbacks\n",
    "callbacks = [\n",
    "    ReduceLROnPlateau(monitor='val_loss', patience=5, cooldown=0),\n",
    "    EarlyStopping(monitor='val_accuracy', min_delta=1e-4, patience=5)  # Updated monitor\n",
    "]"
   ],
   "outputs": [],
   "execution_count": 30
  },
  {
   "metadata": {
    "_uuid": "8d0873633dd49179c8cae17377641b97d323ef3b"
   },
   "cell_type": "markdown",
   "source": "### Train"
  },
  {
   "metadata": {
    "trusted": true,
    "_uuid": "2b659d390c6577dc5cdb6b6297934279b4e801d5",
    "ExecuteTime": {
     "end_time": "2024-12-26T17:24:04.483183Z",
     "start_time": "2024-12-26T16:50:48.237835Z"
    }
   },
   "cell_type": "code",
   "source": [
    "%%time\n",
    "# Train the model\n",
    "history = model.fit(\n",
    "    x_train, y_train,\n",
    "    batch_size=BATCH_SIZE,\n",
    "    epochs=EPOCHS,\n",
    "    validation_split=0.1,\n",
    "    callbacks=callbacks  # Added callbacks\n",
    ")\n"
   ],
   "outputs": [
    {
     "name": "stdout",
     "output_type": "stream",
     "text": [
      "Epoch 1/8\n",
      "\u001B[1m1125/1125\u001B[0m \u001B[32m━━━━━━━━━━━━━━━━━━━━\u001B[0m\u001B[37m\u001B[0m \u001B[1m263s\u001B[0m 232ms/step - accuracy: 0.7279 - loss: 0.5344 - val_accuracy: 0.7773 - val_loss: 0.4692 - learning_rate: 0.0010\n",
      "Epoch 2/8\n",
      "\u001B[1m1125/1125\u001B[0m \u001B[32m━━━━━━━━━━━━━━━━━━━━\u001B[0m\u001B[37m\u001B[0m \u001B[1m263s\u001B[0m 233ms/step - accuracy: 0.7606 - loss: 0.4886 - val_accuracy: 0.7825 - val_loss: 0.4605 - learning_rate: 0.0010\n",
      "Epoch 3/8\n",
      "\u001B[1m1125/1125\u001B[0m \u001B[32m━━━━━━━━━━━━━━━━━━━━\u001B[0m\u001B[37m\u001B[0m \u001B[1m263s\u001B[0m 234ms/step - accuracy: 0.7675 - loss: 0.4783 - val_accuracy: 0.7853 - val_loss: 0.4565 - learning_rate: 0.0010\n",
      "Epoch 4/8\n",
      "\u001B[1m1125/1125\u001B[0m \u001B[32m━━━━━━━━━━━━━━━━━━━━\u001B[0m\u001B[37m\u001B[0m \u001B[1m264s\u001B[0m 235ms/step - accuracy: 0.7711 - loss: 0.4737 - val_accuracy: 0.7865 - val_loss: 0.4525 - learning_rate: 0.0010\n",
      "Epoch 5/8\n",
      "\u001B[1m1125/1125\u001B[0m \u001B[32m━━━━━━━━━━━━━━━━━━━━\u001B[0m\u001B[37m\u001B[0m \u001B[1m265s\u001B[0m 236ms/step - accuracy: 0.7727 - loss: 0.4706 - val_accuracy: 0.7881 - val_loss: 0.4507 - learning_rate: 0.0010\n",
      "Epoch 6/8\n",
      "\u001B[1m1125/1125\u001B[0m \u001B[32m━━━━━━━━━━━━━━━━━━━━\u001B[0m\u001B[37m\u001B[0m \u001B[1m238s\u001B[0m 212ms/step - accuracy: 0.7733 - loss: 0.4692 - val_accuracy: 0.7888 - val_loss: 0.4488 - learning_rate: 0.0010\n",
      "Epoch 7/8\n",
      "\u001B[1m1125/1125\u001B[0m \u001B[32m━━━━━━━━━━━━━━━━━━━━\u001B[0m\u001B[37m\u001B[0m \u001B[1m219s\u001B[0m 195ms/step - accuracy: 0.7745 - loss: 0.4681 - val_accuracy: 0.7882 - val_loss: 0.4485 - learning_rate: 0.0010\n",
      "Epoch 8/8\n",
      "\u001B[1m1125/1125\u001B[0m \u001B[32m━━━━━━━━━━━━━━━━━━━━\u001B[0m\u001B[37m\u001B[0m \u001B[1m220s\u001B[0m 195ms/step - accuracy: 0.7748 - loss: 0.4671 - val_accuracy: 0.7883 - val_loss: 0.4481 - learning_rate: 0.0010\n",
      "CPU times: user 36min 23s, sys: 1min 57s, total: 38min 20s\n",
      "Wall time: 33min 16s\n"
     ]
    }
   ],
   "execution_count": 31
  },
  {
   "metadata": {
    "_uuid": "267258196d96796ac69a7b8c466314bcf5d6ee42"
   },
   "cell_type": "markdown",
   "source": "### Evaluate"
  },
  {
   "metadata": {
    "trusted": true,
    "_uuid": "98ecd8f1b8b74594c3ea775dd68a094e92458022",
    "ExecuteTime": {
     "end_time": "2024-12-26T17:24:32.180825Z",
     "start_time": "2024-12-26T17:24:04.534994Z"
    }
   },
   "cell_type": "code",
   "source": [
    "%%time\n",
    "score = model.evaluate(x_test, y_test, batch_size=BATCH_SIZE, verbose=1)\n",
    "print(\"\\nACCURACY:\", score[1])\n",
    "print(\"LOSS:\", score[0])\n"
   ],
   "outputs": [
    {
     "name": "stdout",
     "output_type": "stream",
     "text": [
      "\u001B[1m313/313\u001B[0m \u001B[32m━━━━━━━━━━━━━━━━━━━━\u001B[0m\u001B[37m\u001B[0m \u001B[1m27s\u001B[0m 87ms/step - accuracy: 0.7907 - loss: 0.4453\n",
      "\n",
      "ACCURACY: 0.7904062271118164\n",
      "LOSS: 0.44641396403312683\n",
      "CPU times: user 28.5 s, sys: 1.48 s, total: 30 s\n",
      "Wall time: 27.6 s\n"
     ]
    }
   ],
   "execution_count": 32
  },
  {
   "metadata": {
    "trusted": true,
    "_uuid": "40c72cd1e9d6c4fd799cbba7c813765ac4039dfc",
    "ExecuteTime": {
     "end_time": "2024-12-26T17:24:32.480010Z",
     "start_time": "2024-12-26T17:24:32.203254Z"
    }
   },
   "cell_type": "code",
   "source": [
    "acc = history.history.get('accuracy', history.history.get('acc'))  # Handle older versions\n",
    "val_acc = history.history.get('val_accuracy', history.history.get('val_acc'))  # Handle older versions\n",
    "loss = history.history['loss']\n",
    "val_loss = history.history['val_loss']\n",
    "\n",
    "epochs = range(len(acc))\n",
    "\n",
    "# Plot training and validation accuracy\n",
    "plt.plot(epochs, acc, 'b', label='Training Accuracy')\n",
    "plt.plot(epochs, val_acc, 'r', label='Validation Accuracy')\n",
    "plt.title('Training and Validation Accuracy')\n",
    "plt.legend()\n",
    "\n",
    "plt.figure()\n",
    "\n",
    "# Plot training and validation loss\n",
    "plt.plot(epochs, loss, 'b', label='Training Loss')\n",
    "plt.plot(epochs, val_loss, 'r', label='Validation Loss')\n",
    "plt.title('Training and Validation Loss')\n",
    "plt.legend()\n",
    "\n",
    "plt.show()\n"
   ],
   "outputs": [
    {
     "data": {
      "text/plain": [
       "<Figure size 640x480 with 1 Axes>"
      ],
      "image/png": "[encoded data removed]"
     },
     "metadata": {},
     "output_type": "display_data"
    },
    {
     "data": {
      "text/plain": [
       "<Figure size 640x480 with 1 Axes>"
      ],
      "image/png": "[encoded data removed]"
     },
     "metadata": {},
     "output_type": "display_data"
    }
   ],
   "execution_count": 33
  },
  {
   "metadata": {
    "_uuid": "6bdfc0f6a6af5bebc0271d83dd7432c91001409b"
   },
   "cell_type": "markdown",
   "source": "### Predict"
  },
  {
   "metadata": {
    "trusted": true,
    "_uuid": "f0b0fa3d4b1bb14b3f5e3d169a369f3ebef29ae1",
    "ExecuteTime": {
     "end_time": "2024-12-26T17:24:32.503982Z",
     "start_time": "2024-12-26T17:24:32.500303Z"
    }
   },
   "cell_type": "code",
   "source": [
    "def decode_sentiment(score, include_neutral=True):\n",
    "    \"\"\"\n",
    "    Decodes the sentiment based on the score and thresholds.\n",
    "\n",
    "    Args:\n",
    "        score (float): The sentiment score (typically between 0 and 1).\n",
    "        include_neutral (bool): Whether to include the 'neutral' sentiment category.\n",
    "\n",
    "    Returns:\n",
    "        str: The sentiment label ('NEGATIVE', 'NEUTRAL', or 'POSITIVE').\n",
    "    \"\"\"\n",
    "    if include_neutral:\n",
    "        if score <= SENTIMENT_THRESHOLDS[0]:\n",
    "            return NEGATIVE\n",
    "        elif score >= SENTIMENT_THRESHOLDS[1]:\n",
    "            return POSITIVE\n",
    "        else:\n",
    "            return NEUTRAL\n",
    "    else:\n",
    "        return NEGATIVE if score < 0.5 else POSITIVE\n"
   ],
   "outputs": [],
   "execution_count": 34
  },
  {
   "metadata": {
    "trusted": true,
    "_uuid": "ed4086d651f2f8cbed11d3c909a8873607d29a06",
    "ExecuteTime": {
     "end_time": "2024-12-26T17:24:32.546736Z",
     "start_time": "2024-12-26T17:24:32.542955Z"
    }
   },
   "cell_type": "code",
   "source": [
    "def predict(text, include_neutral=True):\n",
    "    \"\"\"\n",
    "    Predicts the sentiment of the given text.\n",
    "\n",
    "    Args:\n",
    "        text (str): The input text to analyze.\n",
    "        include_neutral (bool): Whether to include the 'neutral' sentiment category.\n",
    "\n",
    "    Returns:\n",
    "        dict: A dictionary containing the sentiment label, score, and elapsed time.\n",
    "    \"\"\"\n",
    "    start_at = time.time()\n",
    "    \n",
    "    # Tokenize and pad text\n",
    "    x_test = pad_sequences(tokenizer.texts_to_sequences([text]), maxlen=SEQUENCE_LENGTH)\n",
    "    \n",
    "    # Predict sentiment score\n",
    "    score = model.predict(x_test, verbose=0)[0]  # Added `verbose=0` for clean output\n",
    "    \n",
    "    # Decode sentiment label\n",
    "    label = decode_sentiment(score, include_neutral=include_neutral)\n",
    "\n",
    "    # Return results\n",
    "    return {\n",
    "        \"label\": label,\n",
    "        \"score\": float(score),\n",
    "        \"elapsed_time\": time.time() - start_at\n",
    "    }\n"
   ],
   "outputs": [],
   "execution_count": 35
  },
  {
   "metadata": {
    "trusted": true,
    "_uuid": "ca38b1e6c9b5acfed7467de2cf02a78333108872",
    "ExecuteTime": {
     "end_time": "2024-12-26T17:24:32.770901Z",
     "start_time": "2024-12-26T17:24:32.590635Z"
    }
   },
   "cell_type": "code",
   "source": "predict(\"I love the music\")",
   "outputs": [
    {
     "name": "stderr",
     "output_type": "stream",
     "text": [
      "/tmp/ipykernel_6833/794463065.py:26: DeprecationWarning: Conversion of an array with ndim > 0 to a scalar is deprecated, and will error in future. Ensure you extract a single element from your array before performing this operation. (Deprecated NumPy 1.25.)\n",
      "  \"score\": float(score),\n"
     ]
    },
    {
     "data": {
      "text/plain": [
       "{'label': 'POSITIVE',\n",
       " 'score': 0.9700713753700256,\n",
       " 'elapsed_time': 0.17755937576293945}"
      ]
     },
     "execution_count": 36,
     "metadata": {},
     "output_type": "execute_result"
    }
   ],
   "execution_count": 36
  },
  {
   "metadata": {
    "trusted": true,
    "_uuid": "0e5fe647533be0148850de349fea6ef6f71303d1",
    "ExecuteTime": {
     "end_time": "2024-12-26T17:24:32.909450Z",
     "start_time": "2024-12-26T17:24:32.817084Z"
    }
   },
   "cell_type": "code",
   "source": "predict(\"I hate the rain\")",
   "outputs": [
    {
     "name": "stderr",
     "output_type": "stream",
     "text": [
      "/tmp/ipykernel_6833/794463065.py:26: DeprecationWarning: Conversion of an array with ndim > 0 to a scalar is deprecated, and will error in future. Ensure you extract a single element from your array before performing this operation. (Deprecated NumPy 1.25.)\n",
      "  \"score\": float(score),\n"
     ]
    },
    {
     "data": {
      "text/plain": [
       "{'label': 'NEGATIVE',\n",
       " 'score': 0.00839158333837986,\n",
       " 'elapsed_time': 0.0899348258972168}"
      ]
     },
     "execution_count": 37,
     "metadata": {},
     "output_type": "execute_result"
    }
   ],
   "execution_count": 37
  },
  {
   "metadata": {
    "trusted": true,
    "_uuid": "37064dffcc8920d34ccd54fac7c8b50e583a8269",
    "ExecuteTime": {
     "end_time": "2024-12-26T17:24:33.041408Z",
     "start_time": "2024-12-26T17:24:32.925553Z"
    }
   },
   "cell_type": "code",
   "source": "predict(\"i don't know what i'm doing\")",
   "outputs": [
    {
     "name": "stderr",
     "output_type": "stream",
     "text": [
      "/tmp/ipykernel_6833/794463065.py:26: DeprecationWarning: Conversion of an array with ndim > 0 to a scalar is deprecated, and will error in future. Ensure you extract a single element from your array before performing this operation. (Deprecated NumPy 1.25.)\n",
      "  \"score\": float(score),\n"
     ]
    },
    {
     "data": {
      "text/plain": [
       "{'label': 'NEGATIVE',\n",
       " 'score': 0.2946835458278656,\n",
       " 'elapsed_time': 0.11291289329528809}"
      ]
     },
     "execution_count": 38,
     "metadata": {},
     "output_type": "execute_result"
    }
   ],
   "execution_count": 38
  },
  {
   "metadata": {
    "_uuid": "3ee72e47f84b6dbc32e02a783de5ec1661f157e1"
   },
   "cell_type": "markdown",
   "source": "### Confusion Matrix"
  },
  {
   "metadata": {
    "trusted": true,
    "_uuid": "0e920173eb05f04aecdd735bc5dff0f5be5f8d15",
    "ExecuteTime": {
     "end_time": "2024-12-26T17:32:07.339063Z",
     "start_time": "2024-12-26T17:30:50.051437Z"
    }
   },
   "cell_type": "code",
   "source": [
    "%%time\n",
    "y_test_1d = list(df_test.target)  # No change, keeping the target as is\n",
    "\n",
    "# Get predictions\n",
    "scores = model.predict(x_test, verbose=1, batch_size=250)\n",
    "\n",
    "# Decode sentiment for each score and store in y_pred_1d\n",
    "y_pred_1d = [decode_sentiment(score, include_neutral=False) for score in scores]\n"
   ],
   "outputs": [
    {
     "name": "stdout",
     "output_type": "stream",
     "text": [
      "\u001B[1m1280/1280\u001B[0m \u001B[32m━━━━━━━━━━━━━━━━━━━━\u001B[0m\u001B[37m\u001B[0m \u001B[1m76s\u001B[0m 59ms/step\n",
      "CPU times: user 1min 27s, sys: 5.01 s, total: 1min 32s\n",
      "Wall time: 1min 17s\n"
     ]
    }
   ],
   "execution_count": 44
  },
  {
   "metadata": {
    "ExecuteTime": {
     "end_time": "2024-12-26T17:33:25.133311Z",
     "start_time": "2024-12-26T17:32:12.347589Z"
    }
   },
   "cell_type": "code",
   "source": "scores = model.predict(x_test, verbose=1, batch_size=256)\n",
   "outputs": [
    {
     "name": "stdout",
     "output_type": "stream",
     "text": [
      "\u001B[1m1250/1250\u001B[0m \u001B[32m━━━━━━━━━━━━━━━━━━━━\u001B[0m\u001B[37m\u001B[0m \u001B[1m72s\u001B[0m 58ms/step\n"
     ]
    }
   ],
   "execution_count": 45
  },
  {
   "metadata": {
    "trusted": true,
    "_uuid": "b3575191bb425ab871f3f41e83812ee84bb7e595",
    "ExecuteTime": {
     "end_time": "2024-12-26T17:33:40.827194Z",
     "start_time": "2024-12-26T17:33:40.821851Z"
    }
   },
   "cell_type": "code",
   "source": [
    "\n",
    "def plot_confusion_matrix(cm, classes, normalize=False,\n",
    "                          title='Confusion Matrix',\n",
    "                          cmap=plt.cm.Blues):\n",
    "    \"\"\"\n",
    "    This function prints and plots the confusion matrix.\n",
    "    Normalization can be applied by setting `normalize=True`.\n",
    "    \n",
    "    Args:\n",
    "        cm (numpy.ndarray): Confusion matrix to be plotted.\n",
    "        classes (list): List of class labels.\n",
    "        normalize (bool): Whether to normalize the confusion matrix.\n",
    "        title (str): Title for the confusion matrix plot.\n",
    "        cmap (matplotlib.colors.ListedColormap): Colormap to use for the plot.\n",
    "    \"\"\"\n",
    "    if normalize:\n",
    "        cm = cm.astype('float') / cm.sum(axis=1)[:, np.newaxis]\n",
    "\n",
    "    plt.imshow(cm, interpolation='nearest', cmap=cmap)\n",
    "    plt.title(title, fontsize=30)\n",
    "    plt.colorbar()\n",
    "    \n",
    "    tick_marks = np.arange(len(classes))\n",
    "    plt.xticks(tick_marks, classes, rotation=90, fontsize=18)\n",
    "    plt.yticks(tick_marks, classes, fontsize=18)\n",
    "\n",
    "    fmt = '.2f' if normalize else 'd'  # Display float if normalized, otherwise integers\n",
    "    thresh = cm.max() / 2.\n",
    "    for i, j in itertools.product(range(cm.shape[0]), range(cm.shape[1])):\n",
    "        plt.text(j, i, format(cm[i, j], fmt),\n",
    "                 horizontalalignment=\"center\",\n",
    "                 color=\"white\" if cm[i, j] > thresh else \"black\")\n",
    "\n",
    "    plt.ylabel('True label', fontsize=25)\n",
    "    plt.xlabel('Predicted label', fontsize=25)\n",
    "    plt.tight_layout()\n"
   ],
   "outputs": [],
   "execution_count": 46
  },
  {
   "metadata": {
    "trusted": true,
    "_uuid": "a57dc6f6211c144491a70f533225edfa95a2dc66",
    "ExecuteTime": {
     "end_time": "2024-12-26T17:33:43.472470Z",
     "start_time": "2024-12-26T17:33:42.704376Z"
    }
   },
   "cell_type": "code",
   "source": [
    "%%time\n",
    "\n",
    "# Generate the confusion matrix\n",
    "cnf_matrix = confusion_matrix(y_test_1d, y_pred_1d)\n",
    "\n",
    "# Set up the figure size\n",
    "plt.figure(figsize=(12, 12))\n",
    "\n",
    "# Plot the confusion matrix with class labels from df_train\n",
    "plot_confusion_matrix(cnf_matrix, \n",
    "                      classes=[str(label) for label in df_train.target.unique()],\n",
    "                      title=\"Confusion Matrix\", \n",
    "                      normalize=False)  # Set normalize=True if needed\n",
    "\n",
    "# Display the plot\n",
    "plt.show()\n"
   ],
   "outputs": [
    {
     "data": {
      "text/plain": [
       "<Figure size 1200x1200 with 2 Axes>"
      ],
      "image/png": "[encoded data removed]"
     },
     "metadata": {},
     "output_type": "display_data"
    },
    {
     "name": "stdout",
     "output_type": "stream",
     "text": [
      "CPU times: user 789 ms, sys: 310 ms, total: 1.1 s\n",
      "Wall time: 764 ms\n"
     ]
    }
   ],
   "execution_count": 47
  },
  {
   "metadata": {
    "_uuid": "e23b957348dcc084249d3cc7538b972da471c2cd"
   },
   "cell_type": "markdown",
   "source": "### Classification Report"
  },
  {
   "metadata": {
    "trusted": true,
    "_uuid": "a7fe05b7caa1c984ff1deb0be2f7c6bc043df9f5",
    "ExecuteTime": {
     "end_time": "2024-12-26T17:34:07.204096Z",
     "start_time": "2024-12-26T17:34:05.495485Z"
    }
   },
   "cell_type": "code",
   "source": "print(classification_report(y_test_1d, y_pred_1d))",
   "outputs": [
    {
     "name": "stdout",
     "output_type": "stream",
     "text": [
      "              precision    recall  f1-score   support\n",
      "\n",
      "    NEGATIVE       0.79      0.78      0.79    159494\n",
      "    POSITIVE       0.79      0.80      0.79    160506\n",
      "\n",
      "    accuracy                           0.79    320000\n",
      "   macro avg       0.79      0.79      0.79    320000\n",
      "weighted avg       0.79      0.79      0.79    320000\n",
      "\n"
     ]
    }
   ],
   "execution_count": 48
  },
  {
   "metadata": {
    "_uuid": "4eb300f0c6693a618587c7dcf32f77f5416cbfb9"
   },
   "cell_type": "markdown",
   "source": "### Accuracy Score"
  },
  {
   "metadata": {
    "trusted": true,
    "_uuid": "5cf76e6e09f8a60ed25947932b94c772eda44d23",
    "ExecuteTime": {
     "end_time": "2024-12-26T17:34:16.902447Z",
     "start_time": "2024-12-26T17:34:16.513902Z"
    }
   },
   "cell_type": "code",
   "source": "accuracy_score(y_test_1d, y_pred_1d)",
   "outputs": [
    {
     "data": {
      "text/plain": [
       "0.7904"
      ]
     },
     "execution_count": 49,
     "metadata": {},
     "output_type": "execute_result"
    }
   ],
   "execution_count": 49
  },
  {
   "metadata": {
    "_uuid": "4f014c32f3833db282e1a075c526604f34e3158c"
   },
   "cell_type": "markdown",
   "source": "### Save model"
  },
  {
   "metadata": {
    "trusted": true,
    "_uuid": "3b2b3ad5b592977b404acfa1c9ad303a62837255",
    "ExecuteTime": {
     "end_time": "2024-12-26T17:34:24.238653Z",
     "start_time": "2024-12-26T17:34:23.113600Z"
    }
   },
   "cell_type": "code",
   "source": [
    "\n",
    "# Save the Keras model (full model including architecture, weights, and optimizer state)\n",
    "model.save(KERAS_MODEL)\n",
    "\n",
    "# Save the Word2Vec model (Gensim)\n",
    "w2v_model.save(WORD2VEC_MODEL)\n",
    "\n",
    "# Save the tokenizer using pickle (ensure compatibility with pickle protocol)\n",
    "with open(TOKENIZER_MODEL, 'wb') as f:\n",
    "    pickle.dump(tokenizer, f, protocol=0)\n",
    "\n",
    "# Save the encoder using pickle\n",
    "with open(ENCODER_MODEL, 'wb') as f:\n",
    "    pickle.dump(encoder, f, protocol=0)\n"
   ],
   "outputs": [
    {
     "name": "stderr",
     "output_type": "stream",
     "text": [
      "2024-12-26 23:04:23,115 : WARNING : You are saving your model as an HDF5 file via `model.save()` or `keras.saving.save_model(model)`. This file format is considered legacy. We recommend using instead the native Keras format, e.g. `model.save('my_model.keras')` or `keras.saving.save_model(model, 'my_model.keras')`. \n",
      "2024-12-26 23:04:23,572 : INFO : Word2Vec lifecycle event {'fname_or_handle': 'model.w2v', 'separately': 'None', 'sep_limit': 10485760, 'ignore': frozenset(), 'datetime': '2024-12-26T23:04:23.572762', 'gensim': '4.3.3', 'python': '3.10.12 (main, Nov  6 2024, 20:22:13) [GCC 11.4.0]', 'platform': 'Linux-6.8.0-49-generic-x86_64-with-glibc2.35', 'event': 'saving'}\n",
      "2024-12-26 23:04:23,573 : INFO : not storing attribute cum_table\n",
      "2024-12-26 23:04:23,653 : INFO : saved model.w2v\n"
     ]
    }
   ],
   "execution_count": 50
  },
  {
   "metadata": {
    "trusted": true,
    "_uuid": "cc363c54782894757f5ea8820c6a170f2e16ef93"
   },
   "cell_type": "code",
   "source": "",
   "execution_count": null,
   "outputs": []
  }
 ],
 "metadata": {
  "kernelspec": {
   "display_name": "Python 3",
   "language": "python",
   "name": "python3"
  },
  "language_info": {
   "name": "python",
   "version": "3.6.6",
   "mimetype": "text/x-python",
   "codemirror_mode": {
    "name": "ipython",
    "version": 3
   },
   "pygments_lexer": "ipython3",
   "nbconvert_exporter": "python",
   "file_extension": ".py"
  }
 },
 "nbformat": 4,
 "nbformat_minor": 1
}
